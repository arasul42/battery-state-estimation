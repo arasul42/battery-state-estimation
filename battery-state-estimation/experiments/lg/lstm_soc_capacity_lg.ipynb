{
  "cells": [
    {
      "cell_type": "markdown",
      "metadata": {
        "id": "jw9FMur02UtZ"
      },
      "source": [
        "# Main notebook for battery state estimation"
      ]
    },
    {
      "cell_type": "code",
      "execution_count": 1,
      "metadata": {
        "colab": {
          "base_uri": "https://localhost:8080/"
        },
        "id": "XKxZ90kO2Uta",
        "outputId": "466e1ea2-4990-4cca-8ecd-7f180e4395e6"
      },
      "outputs": [
        {
          "name": "stderr",
          "output_type": "stream",
          "text": [
            "2025-03-19 15:19:30.358878: I tensorflow/core/util/port.cc:153] oneDNN custom operations are on. You may see slightly different numerical results due to floating-point round-off errors from different computation orders. To turn them off, set the environment variable `TF_ENABLE_ONEDNN_OPTS=0`.\n",
            "2025-03-19 15:19:30.367040: E external/local_xla/xla/stream_executor/cuda/cuda_fft.cc:477] Unable to register cuFFT factory: Attempting to register factory for plugin cuFFT when one has already been registered\n",
            "WARNING: All log messages before absl::InitializeLog() is called are written to STDERR\n",
            "E0000 00:00:1742415570.379170  580481 cuda_dnn.cc:8310] Unable to register cuDNN factory: Attempting to register factory for plugin cuDNN when one has already been registered\n",
            "E0000 00:00:1742415570.381733  580481 cuda_blas.cc:1418] Unable to register cuBLAS factory: Attempting to register factory for plugin cuBLAS when one has already been registered\n",
            "2025-03-19 15:19:30.391493: I tensorflow/core/platform/cpu_feature_guard.cc:210] This TensorFlow binary is optimized to use available CPU instructions in performance-critical operations.\n",
            "To enable the following instructions: AVX2 AVX_VNNI FMA, in other operations, rebuild TensorFlow with the appropriate compiler flags.\n"
          ]
        }
      ],
      "source": [
        "import numpy as np\n",
        "import pandas as pd\n",
        "import scipy.io\n",
        "import math\n",
        "import os\n",
        "import ntpath\n",
        "import sys\n",
        "import logging\n",
        "import time\n",
        "import sys\n",
        "\n",
        "from importlib import reload\n",
        "import plotly.graph_objects as go\n",
        "\n",
        "os.environ[\"CUDA_VISIBLE_DEVICES\"] = \"-1\"\n",
        "\n",
        "import tensorflow as tf\n",
        "from tensorflow import keras\n",
        "from tensorflow.keras import layers\n",
        "\n",
        "from keras.models import Sequential\n",
        "from keras.layers import Dense, Dropout, Activation\n",
        "from keras.optimizers import SGD, Adam\n",
        "from tensorflow.keras.utils import to_categorical\n",
        "from keras.layers import LSTM, Embedding, RepeatVector, TimeDistributed, Masking\n",
        "from keras.callbacks import EarlyStopping, ModelCheckpoint, LambdaCallback\n",
        "\n",
        "from tensorflow.keras.models import load_model\n",
        "\n",
        "\n",
        "# import os\n",
        "# import os\n",
        "# print(\"Current Directory:\", os.getcwd())  # Check current working directory\n",
        "# print(\"Files and Folders:\", os.listdir())  # List all files and folders\n",
        "\n",
        "\n",
        "\n",
        "\n",
        "IS_COLAB = False\n",
        "\n",
        "if IS_COLAB:\n",
        "    from google.colab import drive\n",
        "    drive.mount('/content/drive')\n",
        "    data_path = \"/content/drive/My Drive/battery-state-estimation/battery-state-estimation/\"\n",
        "else:\n",
        "    data_path = \"~/mecc/battery-state-estimation/battery-state-estimation/\"\n",
        "\n",
        "sys.path.append(data_path)\n",
        "from data_processing.lg_dataset import LgData"
      ]
    },
    {
      "cell_type": "markdown",
      "metadata": {
        "id": "MfVCRISs2Utc"
      },
      "source": [
        "### Config logging"
      ]
    },
    {
      "cell_type": "code",
      "execution_count": 2,
      "metadata": {
        "id": "K2IvySBk2Utd"
      },
      "outputs": [],
      "source": [
        "reload(logging)\n",
        "logging.basicConfig(format='%(asctime)s [%(levelname)s]: %(message)s', level=logging.DEBUG, datefmt='%Y/%m/%d %H:%M:%S')"
      ]
    },
    {
      "cell_type": "markdown",
      "metadata": {
        "id": "KsbkwTX22Utf"
      },
      "source": [
        "# Load Data"
      ]
    },
    {
      "cell_type": "code",
      "execution_count": 6,
      "metadata": {
        "colab": {
          "base_uri": "https://localhost:8080/"
        },
        "id": "k-yTrXQ12Utm",
        "outputId": "8c900e69-9b3d-4294-fab7-36213412cdbb"
      },
      "outputs": [],
      "source": [
        "train_names = [\n",
        "    '25degC/551_LA92', \n",
        "    '25degC/551_Mixed1', \n",
        "    '25degC/551_Mixed2', \n",
        "    '25degC/551_UDDS', \n",
        "    '25degC/551_US06', \n",
        "    '25degC/552_Mixed3',\n",
        "\n",
        "    '25degC/552_Mixed7', \n",
        "    '25degC/552_Mixed8', \n",
        "    ]\n",
        "test_names = [\n",
        "    '25degC/552_Mixed4', \n",
        "    '25degC/552_Mixed5', \n",
        "    '25degC/552_Mixed6', \n",
        "    ]\n",
        "\n",
        "steps = 300\n",
        "\n",
        "lg_data = LgData(data_path)\n",
        "cycles = lg_data.get_discharge_whole_cycle(train_names, test_names, output_capacity=True)\n",
        "train_x, train_y, test_x, test_y = lg_data.get_discharge_multiple_step(cycles, steps)\n",
        "\n",
        "train_y = lg_data.keep_only_y_end(train_y, steps)\n",
        "test_y = lg_data.keep_only_y_end(test_y, steps)"
      ]
    },
    {
      "cell_type": "markdown",
      "metadata": {
        "id": "7iYU-n0K2Utq"
      },
      "source": [
        "# Model training"
      ]
    },
    {
      "cell_type": "code",
      "execution_count": 7,
      "metadata": {
        "colab": {
          "base_uri": "https://localhost:8080/"
        },
        "id": "LSx96n4w2Uts",
        "outputId": "6a4427e8-b03b-4e75-a52e-d77b11da8941"
      },
      "outputs": [
        {
          "name": "stdout",
          "output_type": "stream",
          "text": [
            "2025-03-19-15-40-45_lstm_soc_lg\n"
          ]
        },
        {
          "name": "stderr",
          "output_type": "stream",
          "text": [
            "2025-03-19 15:40:45.471106: E external/local_xla/xla/stream_executor/cuda/cuda_driver.cc:152] failed call to cuInit: INTERNAL: CUDA error: Failed call to cuInit: CUDA_ERROR_NO_DEVICE: no CUDA-capable device is detected\n",
            "2025-03-19 15:40:45.471126: I external/local_xla/xla/stream_executor/cuda/cuda_diagnostics.cc:137] retrieving CUDA diagnostic information for host: BRWN325-D10\n",
            "2025-03-19 15:40:45.471129: I external/local_xla/xla/stream_executor/cuda/cuda_diagnostics.cc:144] hostname: BRWN325-D10\n",
            "2025-03-19 15:40:45.471215: I external/local_xla/xla/stream_executor/cuda/cuda_diagnostics.cc:168] libcuda reported version is: 550.120.0\n",
            "2025-03-19 15:40:45.471231: I external/local_xla/xla/stream_executor/cuda/cuda_diagnostics.cc:172] kernel reported version is: 550.120.0\n",
            "2025-03-19 15:40:45.471233: I external/local_xla/xla/stream_executor/cuda/cuda_diagnostics.cc:259] kernel version seems to match DSO: 550.120.0\n",
            "/home/arasul42@tntech.edu/.local/lib/python3.10/site-packages/keras/src/layers/rnn/rnn.py:200: UserWarning: Do not pass an `input_shape`/`input_dim` argument to a layer. When using Sequential models, prefer using an `Input(shape)` object as the first layer in the model instead.\n",
            "  super().__init__(**kwargs)\n"
          ]
        },
        {
          "data": {
            "text/html": [
              "<pre style=\"white-space:pre;overflow-x:auto;line-height:normal;font-family:Menlo,'DejaVu Sans Mono',consolas,'Courier New',monospace\"><span style=\"font-weight: bold\">Model: \"sequential\"</span>\n",
              "</pre>\n"
            ],
            "text/plain": [
              "\u001b[1mModel: \"sequential\"\u001b[0m\n"
            ]
          },
          "metadata": {},
          "output_type": "display_data"
        },
        {
          "data": {
            "text/html": [
              "<pre style=\"white-space:pre;overflow-x:auto;line-height:normal;font-family:Menlo,'DejaVu Sans Mono',consolas,'Courier New',monospace\">┏━━━━━━━━━━━━━━━━━━━━━━━━━━━━━━━━━┳━━━━━━━━━━━━━━━━━━━━━━━━┳━━━━━━━━━━━━━━━┓\n",
              "┃<span style=\"font-weight: bold\"> Layer (type)                    </span>┃<span style=\"font-weight: bold\"> Output Shape           </span>┃<span style=\"font-weight: bold\">       Param # </span>┃\n",
              "┡━━━━━━━━━━━━━━━━━━━━━━━━━━━━━━━━━╇━━━━━━━━━━━━━━━━━━━━━━━━╇━━━━━━━━━━━━━━━┩\n",
              "│ lstm (<span style=\"color: #0087ff; text-decoration-color: #0087ff\">LSTM</span>)                     │ (<span style=\"color: #00d7ff; text-decoration-color: #00d7ff\">None</span>, <span style=\"color: #00af00; text-decoration-color: #00af00\">300</span>, <span style=\"color: #00af00; text-decoration-color: #00af00\">256</span>)       │       <span style=\"color: #00af00; text-decoration-color: #00af00\">266,240</span> │\n",
              "├─────────────────────────────────┼────────────────────────┼───────────────┤\n",
              "│ lstm_1 (<span style=\"color: #0087ff; text-decoration-color: #0087ff\">LSTM</span>)                   │ (<span style=\"color: #00d7ff; text-decoration-color: #00d7ff\">None</span>, <span style=\"color: #00af00; text-decoration-color: #00af00\">256</span>)            │       <span style=\"color: #00af00; text-decoration-color: #00af00\">525,312</span> │\n",
              "├─────────────────────────────────┼────────────────────────┼───────────────┤\n",
              "│ dense (<span style=\"color: #0087ff; text-decoration-color: #0087ff\">Dense</span>)                   │ (<span style=\"color: #00d7ff; text-decoration-color: #00d7ff\">None</span>, <span style=\"color: #00af00; text-decoration-color: #00af00\">256</span>)            │        <span style=\"color: #00af00; text-decoration-color: #00af00\">65,792</span> │\n",
              "├─────────────────────────────────┼────────────────────────┼───────────────┤\n",
              "│ dense_1 (<span style=\"color: #0087ff; text-decoration-color: #0087ff\">Dense</span>)                 │ (<span style=\"color: #00d7ff; text-decoration-color: #00d7ff\">None</span>, <span style=\"color: #00af00; text-decoration-color: #00af00\">128</span>)            │        <span style=\"color: #00af00; text-decoration-color: #00af00\">32,896</span> │\n",
              "├─────────────────────────────────┼────────────────────────┼───────────────┤\n",
              "│ dense_2 (<span style=\"color: #0087ff; text-decoration-color: #0087ff\">Dense</span>)                 │ (<span style=\"color: #00d7ff; text-decoration-color: #00d7ff\">None</span>, <span style=\"color: #00af00; text-decoration-color: #00af00\">1</span>)              │           <span style=\"color: #00af00; text-decoration-color: #00af00\">129</span> │\n",
              "└─────────────────────────────────┴────────────────────────┴───────────────┘\n",
              "</pre>\n"
            ],
            "text/plain": [
              "┏━━━━━━━━━━━━━━━━━━━━━━━━━━━━━━━━━┳━━━━━━━━━━━━━━━━━━━━━━━━┳━━━━━━━━━━━━━━━┓\n",
              "┃\u001b[1m \u001b[0m\u001b[1mLayer (type)                   \u001b[0m\u001b[1m \u001b[0m┃\u001b[1m \u001b[0m\u001b[1mOutput Shape          \u001b[0m\u001b[1m \u001b[0m┃\u001b[1m \u001b[0m\u001b[1m      Param #\u001b[0m\u001b[1m \u001b[0m┃\n",
              "┡━━━━━━━━━━━━━━━━━━━━━━━━━━━━━━━━━╇━━━━━━━━━━━━━━━━━━━━━━━━╇━━━━━━━━━━━━━━━┩\n",
              "│ lstm (\u001b[38;5;33mLSTM\u001b[0m)                     │ (\u001b[38;5;45mNone\u001b[0m, \u001b[38;5;34m300\u001b[0m, \u001b[38;5;34m256\u001b[0m)       │       \u001b[38;5;34m266,240\u001b[0m │\n",
              "├─────────────────────────────────┼────────────────────────┼───────────────┤\n",
              "│ lstm_1 (\u001b[38;5;33mLSTM\u001b[0m)                   │ (\u001b[38;5;45mNone\u001b[0m, \u001b[38;5;34m256\u001b[0m)            │       \u001b[38;5;34m525,312\u001b[0m │\n",
              "├─────────────────────────────────┼────────────────────────┼───────────────┤\n",
              "│ dense (\u001b[38;5;33mDense\u001b[0m)                   │ (\u001b[38;5;45mNone\u001b[0m, \u001b[38;5;34m256\u001b[0m)            │        \u001b[38;5;34m65,792\u001b[0m │\n",
              "├─────────────────────────────────┼────────────────────────┼───────────────┤\n",
              "│ dense_1 (\u001b[38;5;33mDense\u001b[0m)                 │ (\u001b[38;5;45mNone\u001b[0m, \u001b[38;5;34m128\u001b[0m)            │        \u001b[38;5;34m32,896\u001b[0m │\n",
              "├─────────────────────────────────┼────────────────────────┼───────────────┤\n",
              "│ dense_2 (\u001b[38;5;33mDense\u001b[0m)                 │ (\u001b[38;5;45mNone\u001b[0m, \u001b[38;5;34m1\u001b[0m)              │           \u001b[38;5;34m129\u001b[0m │\n",
              "└─────────────────────────────────┴────────────────────────┴───────────────┘\n"
            ]
          },
          "metadata": {},
          "output_type": "display_data"
        },
        {
          "data": {
            "text/html": [
              "<pre style=\"white-space:pre;overflow-x:auto;line-height:normal;font-family:Menlo,'DejaVu Sans Mono',consolas,'Courier New',monospace\"><span style=\"font-weight: bold\"> Total params: </span><span style=\"color: #00af00; text-decoration-color: #00af00\">890,369</span> (3.40 MB)\n",
              "</pre>\n"
            ],
            "text/plain": [
              "\u001b[1m Total params: \u001b[0m\u001b[38;5;34m890,369\u001b[0m (3.40 MB)\n"
            ]
          },
          "metadata": {},
          "output_type": "display_data"
        },
        {
          "data": {
            "text/html": [
              "<pre style=\"white-space:pre;overflow-x:auto;line-height:normal;font-family:Menlo,'DejaVu Sans Mono',consolas,'Courier New',monospace\"><span style=\"font-weight: bold\"> Trainable params: </span><span style=\"color: #00af00; text-decoration-color: #00af00\">890,369</span> (3.40 MB)\n",
              "</pre>\n"
            ],
            "text/plain": [
              "\u001b[1m Trainable params: \u001b[0m\u001b[38;5;34m890,369\u001b[0m (3.40 MB)\n"
            ]
          },
          "metadata": {},
          "output_type": "display_data"
        },
        {
          "data": {
            "text/html": [
              "<pre style=\"white-space:pre;overflow-x:auto;line-height:normal;font-family:Menlo,'DejaVu Sans Mono',consolas,'Courier New',monospace\"><span style=\"font-weight: bold\"> Non-trainable params: </span><span style=\"color: #00af00; text-decoration-color: #00af00\">0</span> (0.00 B)\n",
              "</pre>\n"
            ],
            "text/plain": [
              "\u001b[1m Non-trainable params: \u001b[0m\u001b[38;5;34m0\u001b[0m (0.00 B)\n"
            ]
          },
          "metadata": {},
          "output_type": "display_data"
        }
      ],
      "source": [
        "EXPERIMENT = \"lstm_soc_lg\"\n",
        "\n",
        "experiment_name = time.strftime(\"%Y-%m-%d-%H-%M-%S\") + '_' + EXPERIMENT\n",
        "print(experiment_name)\n",
        "\n",
        "# Model definition\n",
        "\n",
        "\n",
        "opt = tf.keras.optimizers.Adam(learning_rate=0.00001)\n",
        "\n",
        "\n",
        "\n",
        "model = Sequential()\n",
        "model.add(LSTM(256, activation='selu',\n",
        "                return_sequences=True,\n",
        "                input_shape=(train_x.shape[1], train_x.shape[2])))\n",
        "model.add(LSTM(256, activation='selu', return_sequences=False))\n",
        "model.add(Dense(256, activation='selu'))\n",
        "model.add(Dense(128, activation='selu'))\n",
        "model.add(Dense(1, activation='linear'))\n",
        "model.summary()\n",
        "\n",
        "model.compile(optimizer=opt, loss='huber', metrics=['mse', 'mae', 'mape', tf.keras.metrics.RootMeanSquaredError(name='rmse')])\n",
        "\n",
        "es = EarlyStopping(monitor='val_loss', patience=50)\n",
        "mc = ModelCheckpoint(data_path + 'results/trained_model/%s_best.h5' % experiment_name, \n",
        "                             save_best_only=True, \n",
        "                             monitor='val_loss')"
      ]
    },
    {
      "cell_type": "code",
      "execution_count": 8,
      "metadata": {
        "colab": {
          "base_uri": "https://localhost:8080/"
        },
        "id": "AIEcv6Ey2Utu",
        "outputId": "eb5a47e0-2afa-4c2c-bd42-d9b616521633"
      },
      "outputs": [
        {
          "name": "stdout",
          "output_type": "stream",
          "text": [
            "Epoch 1/100\n",
            "\u001b[1m54/54\u001b[0m \u001b[32m━━━━━━━━━━━━━━━━━━━━\u001b[0m\u001b[37m\u001b[0m \u001b[1m0s\u001b[0m 276ms/step - loss: 0.5217 - mae: 0.9104 - mape: 201.6742 - mse: 1.2844 - rmse: 1.0977"
          ]
        },
        {
          "name": "stderr",
          "output_type": "stream",
          "text": [
            "WARNING:absl:You are saving your model as an HDF5 file via `model.save()` or `keras.saving.save_model(model)`. This file format is considered legacy. We recommend using instead the native Keras format, e.g. `model.save('my_model.keras')` or `keras.saving.save_model(model, 'my_model.keras')`. \n"
          ]
        },
        {
          "name": "stdout",
          "output_type": "stream",
          "text": [
            "\u001b[1m54/54\u001b[0m \u001b[32m━━━━━━━━━━━━━━━━━━━━\u001b[0m\u001b[37m\u001b[0m \u001b[1m18s\u001b[0m 309ms/step - loss: 0.5173 - mae: 0.9052 - mape: 202.0420 - mse: 1.2727 - rmse: 1.0923 - val_loss: 0.0511 - val_mae: 0.2771 - val_mape: 91.6396 - val_mse: 0.1021 - val_rmse: 0.3195\n",
            "Epoch 2/100\n",
            "\u001b[1m54/54\u001b[0m \u001b[32m━━━━━━━━━━━━━━━━━━━━\u001b[0m\u001b[37m\u001b[0m \u001b[1m0s\u001b[0m 275ms/step - loss: 0.0282 - mae: 0.1839 - mape: 42.1083 - mse: 0.0564 - rmse: 0.2328"
          ]
        },
        {
          "name": "stderr",
          "output_type": "stream",
          "text": [
            "WARNING:absl:You are saving your model as an HDF5 file via `model.save()` or `keras.saving.save_model(model)`. This file format is considered legacy. We recommend using instead the native Keras format, e.g. `model.save('my_model.keras')` or `keras.saving.save_model(model, 'my_model.keras')`. \n"
          ]
        },
        {
          "name": "stdout",
          "output_type": "stream",
          "text": [
            "\u001b[1m54/54\u001b[0m \u001b[32m━━━━━━━━━━━━━━━━━━━━\u001b[0m\u001b[37m\u001b[0m \u001b[1m16s\u001b[0m 303ms/step - loss: 0.0280 - mae: 0.1830 - mape: 41.9165 - mse: 0.0559 - rmse: 0.2318 - val_loss: 0.0040 - val_mae: 0.0712 - val_mape: 15.0104 - val_mse: 0.0080 - val_rmse: 0.0894\n",
            "Epoch 3/100\n",
            "\u001b[1m54/54\u001b[0m \u001b[32m━━━━━━━━━━━━━━━━━━━━\u001b[0m\u001b[37m\u001b[0m \u001b[1m0s\u001b[0m 279ms/step - loss: 0.0044 - mae: 0.0741 - mape: 16.6434 - mse: 0.0087 - rmse: 0.0933"
          ]
        },
        {
          "name": "stderr",
          "output_type": "stream",
          "text": [
            "WARNING:absl:You are saving your model as an HDF5 file via `model.save()` or `keras.saving.save_model(model)`. This file format is considered legacy. We recommend using instead the native Keras format, e.g. `model.save('my_model.keras')` or `keras.saving.save_model(model, 'my_model.keras')`. \n"
          ]
        },
        {
          "name": "stdout",
          "output_type": "stream",
          "text": [
            "\u001b[1m54/54\u001b[0m \u001b[32m━━━━━━━━━━━━━━━━━━━━\u001b[0m\u001b[37m\u001b[0m \u001b[1m17s\u001b[0m 308ms/step - loss: 0.0044 - mae: 0.0740 - mape: 16.7074 - mse: 0.0087 - rmse: 0.0932 - val_loss: 0.0028 - val_mae: 0.0608 - val_mape: 16.3690 - val_mse: 0.0055 - val_rmse: 0.0742\n",
            "Epoch 4/100\n",
            "\u001b[1m54/54\u001b[0m \u001b[32m━━━━━━━━━━━━━━━━━━━━\u001b[0m\u001b[37m\u001b[0m \u001b[1m0s\u001b[0m 296ms/step - loss: 0.0028 - mae: 0.0593 - mape: 21.7685 - mse: 0.0056 - rmse: 0.0749"
          ]
        },
        {
          "name": "stderr",
          "output_type": "stream",
          "text": [
            "WARNING:absl:You are saving your model as an HDF5 file via `model.save()` or `keras.saving.save_model(model)`. This file format is considered legacy. We recommend using instead the native Keras format, e.g. `model.save('my_model.keras')` or `keras.saving.save_model(model, 'my_model.keras')`. \n"
          ]
        },
        {
          "name": "stdout",
          "output_type": "stream",
          "text": [
            "\u001b[1m54/54\u001b[0m \u001b[32m━━━━━━━━━━━━━━━━━━━━\u001b[0m\u001b[37m\u001b[0m \u001b[1m18s\u001b[0m 327ms/step - loss: 0.0028 - mae: 0.0593 - mape: 21.7420 - mse: 0.0056 - rmse: 0.0748 - val_loss: 0.0022 - val_mae: 0.0519 - val_mape: 17.1128 - val_mse: 0.0044 - val_rmse: 0.0662\n",
            "Epoch 5/100\n",
            "\u001b[1m54/54\u001b[0m \u001b[32m━━━━━━━━━━━━━━━━━━━━\u001b[0m\u001b[37m\u001b[0m \u001b[1m0s\u001b[0m 285ms/step - loss: 0.0023 - mae: 0.0529 - mape: 29.1200 - mse: 0.0046 - rmse: 0.0681"
          ]
        },
        {
          "name": "stderr",
          "output_type": "stream",
          "text": [
            "WARNING:absl:You are saving your model as an HDF5 file via `model.save()` or `keras.saving.save_model(model)`. This file format is considered legacy. We recommend using instead the native Keras format, e.g. `model.save('my_model.keras')` or `keras.saving.save_model(model, 'my_model.keras')`. \n"
          ]
        },
        {
          "name": "stdout",
          "output_type": "stream",
          "text": [
            "\u001b[1m54/54\u001b[0m \u001b[32m━━━━━━━━━━━━━━━━━━━━\u001b[0m\u001b[37m\u001b[0m \u001b[1m17s\u001b[0m 314ms/step - loss: 0.0023 - mae: 0.0529 - mape: 28.8963 - mse: 0.0046 - rmse: 0.0681 - val_loss: 0.0016 - val_mae: 0.0459 - val_mape: 13.5346 - val_mse: 0.0033 - val_rmse: 0.0573\n",
            "Epoch 6/100\n",
            "\u001b[1m54/54\u001b[0m \u001b[32m━━━━━━━━━━━━━━━━━━━━\u001b[0m\u001b[37m\u001b[0m \u001b[1m17s\u001b[0m 308ms/step - loss: 0.0020 - mae: 0.0482 - mape: 14.4798 - mse: 0.0039 - rmse: 0.0626 - val_loss: 0.0017 - val_mae: 0.0480 - val_mape: 14.2712 - val_mse: 0.0034 - val_rmse: 0.0579\n",
            "Epoch 7/100\n",
            "\u001b[1m54/54\u001b[0m \u001b[32m━━━━━━━━━━━━━━━━━━━━\u001b[0m\u001b[37m\u001b[0m \u001b[1m17s\u001b[0m 313ms/step - loss: 0.0015 - mae: 0.0426 - mape: 12.3201 - mse: 0.0031 - rmse: 0.0554 - val_loss: 0.0019 - val_mae: 0.0494 - val_mape: 12.4242 - val_mse: 0.0037 - val_rmse: 0.0609\n",
            "Epoch 8/100\n",
            "\u001b[1m54/54\u001b[0m \u001b[32m━━━━━━━━━━━━━━━━━━━━\u001b[0m\u001b[37m\u001b[0m \u001b[1m0s\u001b[0m 283ms/step - loss: 0.0016 - mae: 0.0438 - mape: 9.8224 - mse: 0.0032 - rmse: 0.0566"
          ]
        },
        {
          "name": "stderr",
          "output_type": "stream",
          "text": [
            "WARNING:absl:You are saving your model as an HDF5 file via `model.save()` or `keras.saving.save_model(model)`. This file format is considered legacy. We recommend using instead the native Keras format, e.g. `model.save('my_model.keras')` or `keras.saving.save_model(model, 'my_model.keras')`. \n"
          ]
        },
        {
          "name": "stdout",
          "output_type": "stream",
          "text": [
            "\u001b[1m54/54\u001b[0m \u001b[32m━━━━━━━━━━━━━━━━━━━━\u001b[0m\u001b[37m\u001b[0m \u001b[1m17s\u001b[0m 312ms/step - loss: 0.0016 - mae: 0.0438 - mape: 9.8480 - mse: 0.0032 - rmse: 0.0566 - val_loss: 0.0016 - val_mae: 0.0464 - val_mape: 12.1507 - val_mse: 0.0032 - val_rmse: 0.0563\n",
            "Epoch 9/100\n",
            "\u001b[1m54/54\u001b[0m \u001b[32m━━━━━━━━━━━━━━━━━━━━\u001b[0m\u001b[37m\u001b[0m \u001b[1m0s\u001b[0m 277ms/step - loss: 0.0014 - mae: 0.0412 - mape: 12.1889 - mse: 0.0028 - rmse: 0.0530"
          ]
        },
        {
          "name": "stderr",
          "output_type": "stream",
          "text": [
            "WARNING:absl:You are saving your model as an HDF5 file via `model.save()` or `keras.saving.save_model(model)`. This file format is considered legacy. We recommend using instead the native Keras format, e.g. `model.save('my_model.keras')` or `keras.saving.save_model(model, 'my_model.keras')`. \n"
          ]
        },
        {
          "name": "stdout",
          "output_type": "stream",
          "text": [
            "\u001b[1m54/54\u001b[0m \u001b[32m━━━━━━━━━━━━━━━━━━━━\u001b[0m\u001b[37m\u001b[0m \u001b[1m17s\u001b[0m 308ms/step - loss: 0.0014 - mae: 0.0412 - mape: 12.1806 - mse: 0.0028 - rmse: 0.0530 - val_loss: 0.0013 - val_mae: 0.0411 - val_mape: 11.3493 - val_mse: 0.0026 - val_rmse: 0.0507\n",
            "Epoch 10/100\n",
            "\u001b[1m54/54\u001b[0m \u001b[32m━━━━━━━━━━━━━━━━━━━━\u001b[0m\u001b[37m\u001b[0m \u001b[1m17s\u001b[0m 308ms/step - loss: 0.0014 - mae: 0.0403 - mape: 8.3145 - mse: 0.0028 - rmse: 0.0529 - val_loss: 0.0019 - val_mae: 0.0493 - val_mape: 13.4301 - val_mse: 0.0037 - val_rmse: 0.0610\n",
            "Epoch 11/100\n",
            "\u001b[1m54/54\u001b[0m \u001b[32m━━━━━━━━━━━━━━━━━━━━\u001b[0m\u001b[37m\u001b[0m \u001b[1m17s\u001b[0m 314ms/step - loss: 0.0019 - mae: 0.0483 - mape: 10.9027 - mse: 0.0039 - rmse: 0.0620 - val_loss: 0.0013 - val_mae: 0.0425 - val_mape: 12.1865 - val_mse: 0.0026 - val_rmse: 0.0510\n",
            "Epoch 12/100\n",
            "\u001b[1m54/54\u001b[0m \u001b[32m━━━━━━━━━━━━━━━━━━━━\u001b[0m\u001b[37m\u001b[0m \u001b[1m17s\u001b[0m 317ms/step - loss: 0.0012 - mae: 0.0371 - mape: 11.6036 - mse: 0.0023 - rmse: 0.0481 - val_loss: 0.0016 - val_mae: 0.0476 - val_mape: 12.9924 - val_mse: 0.0033 - val_rmse: 0.0571\n",
            "Epoch 13/100\n",
            "\u001b[1m54/54\u001b[0m \u001b[32m━━━━━━━━━━━━━━━━━━━━\u001b[0m\u001b[37m\u001b[0m \u001b[1m17s\u001b[0m 318ms/step - loss: 0.0014 - mae: 0.0410 - mape: 11.7509 - mse: 0.0028 - rmse: 0.0527 - val_loss: 0.0024 - val_mae: 0.0561 - val_mape: 11.3259 - val_mse: 0.0047 - val_rmse: 0.0686\n",
            "Epoch 14/100\n",
            "\u001b[1m54/54\u001b[0m \u001b[32m━━━━━━━━━━━━━━━━━━━━\u001b[0m\u001b[37m\u001b[0m \u001b[1m18s\u001b[0m 329ms/step - loss: 0.0013 - mae: 0.0394 - mape: 12.6309 - mse: 0.0026 - rmse: 0.0511 - val_loss: 0.0014 - val_mae: 0.0445 - val_mape: 10.0646 - val_mse: 0.0029 - val_rmse: 0.0537\n",
            "Epoch 15/100\n",
            "\u001b[1m54/54\u001b[0m \u001b[32m━━━━━━━━━━━━━━━━━━━━\u001b[0m\u001b[37m\u001b[0m \u001b[1m0s\u001b[0m 299ms/step - loss: 0.0012 - mae: 0.0378 - mape: 9.5378 - mse: 0.0023 - rmse: 0.0482"
          ]
        },
        {
          "name": "stderr",
          "output_type": "stream",
          "text": [
            "WARNING:absl:You are saving your model as an HDF5 file via `model.save()` or `keras.saving.save_model(model)`. This file format is considered legacy. We recommend using instead the native Keras format, e.g. `model.save('my_model.keras')` or `keras.saving.save_model(model, 'my_model.keras')`. \n"
          ]
        },
        {
          "name": "stdout",
          "output_type": "stream",
          "text": [
            "\u001b[1m54/54\u001b[0m \u001b[32m━━━━━━━━━━━━━━━━━━━━\u001b[0m\u001b[37m\u001b[0m \u001b[1m18s\u001b[0m 330ms/step - loss: 0.0012 - mae: 0.0378 - mape: 9.5495 - mse: 0.0023 - rmse: 0.0482 - val_loss: 0.0012 - val_mae: 0.0404 - val_mape: 10.5277 - val_mse: 0.0024 - val_rmse: 0.0488\n",
            "Epoch 16/100\n",
            "\u001b[1m54/54\u001b[0m \u001b[32m━━━━━━━━━━━━━━━━━━━━\u001b[0m\u001b[37m\u001b[0m \u001b[1m18s\u001b[0m 328ms/step - loss: 0.0010 - mae: 0.0346 - mape: 8.4203 - mse: 0.0021 - rmse: 0.0453 - val_loss: 0.0016 - val_mae: 0.0458 - val_mape: 10.8744 - val_mse: 0.0031 - val_rmse: 0.0559\n",
            "Epoch 17/100\n",
            "\u001b[1m54/54\u001b[0m \u001b[32m━━━━━━━━━━━━━━━━━━━━\u001b[0m\u001b[37m\u001b[0m \u001b[1m17s\u001b[0m 312ms/step - loss: 0.0014 - mae: 0.0410 - mape: 10.4007 - mse: 0.0028 - rmse: 0.0524 - val_loss: 0.0016 - val_mae: 0.0467 - val_mape: 11.2156 - val_mse: 0.0032 - val_rmse: 0.0562\n",
            "Epoch 18/100\n",
            "\u001b[1m54/54\u001b[0m \u001b[32m━━━━━━━━━━━━━━━━━━━━\u001b[0m\u001b[37m\u001b[0m \u001b[1m0s\u001b[0m 281ms/step - loss: 0.0010 - mae: 0.0350 - mape: 8.9304 - mse: 0.0021 - rmse: 0.0457"
          ]
        },
        {
          "name": "stderr",
          "output_type": "stream",
          "text": [
            "WARNING:absl:You are saving your model as an HDF5 file via `model.save()` or `keras.saving.save_model(model)`. This file format is considered legacy. We recommend using instead the native Keras format, e.g. `model.save('my_model.keras')` or `keras.saving.save_model(model, 'my_model.keras')`. \n"
          ]
        },
        {
          "name": "stdout",
          "output_type": "stream",
          "text": [
            "\u001b[1m54/54\u001b[0m \u001b[32m━━━━━━━━━━━━━━━━━━━━\u001b[0m\u001b[37m\u001b[0m \u001b[1m17s\u001b[0m 310ms/step - loss: 0.0010 - mae: 0.0350 - mape: 8.9365 - mse: 0.0021 - rmse: 0.0457 - val_loss: 0.0011 - val_mae: 0.0385 - val_mape: 9.2693 - val_mse: 0.0022 - val_rmse: 0.0467\n",
            "Epoch 19/100\n",
            "\u001b[1m54/54\u001b[0m \u001b[32m━━━━━━━━━━━━━━━━━━━━\u001b[0m\u001b[37m\u001b[0m \u001b[1m17s\u001b[0m 312ms/step - loss: 0.0012 - mae: 0.0378 - mape: 10.3144 - mse: 0.0023 - rmse: 0.0484 - val_loss: 0.0012 - val_mae: 0.0419 - val_mape: 11.6141 - val_mse: 0.0025 - val_rmse: 0.0499\n",
            "Epoch 20/100\n",
            "\u001b[1m54/54\u001b[0m \u001b[32m━━━━━━━━━━━━━━━━━━━━\u001b[0m\u001b[37m\u001b[0m \u001b[1m17s\u001b[0m 313ms/step - loss: 9.8598e-04 - mae: 0.0341 - mape: 10.4344 - mse: 0.0020 - rmse: 0.0444 - val_loss: 0.0021 - val_mae: 0.0528 - val_mape: 10.3891 - val_mse: 0.0042 - val_rmse: 0.0645\n",
            "Epoch 21/100\n",
            "\u001b[1m54/54\u001b[0m \u001b[32m━━━━━━━━━━━━━━━━━━━━\u001b[0m\u001b[37m\u001b[0m \u001b[1m17s\u001b[0m 311ms/step - loss: 0.0011 - mae: 0.0367 - mape: 8.9567 - mse: 0.0023 - rmse: 0.0474 - val_loss: 0.0021 - val_mae: 0.0526 - val_mape: 9.6852 - val_mse: 0.0042 - val_rmse: 0.0646\n",
            "Epoch 22/100\n",
            "\u001b[1m54/54\u001b[0m \u001b[32m━━━━━━━━━━━━━━━━━━━━\u001b[0m\u001b[37m\u001b[0m \u001b[1m17s\u001b[0m 309ms/step - loss: 0.0011 - mae: 0.0349 - mape: 12.2354 - mse: 0.0021 - rmse: 0.0460 - val_loss: 0.0014 - val_mae: 0.0433 - val_mape: 9.2296 - val_mse: 0.0028 - val_rmse: 0.0527\n",
            "Epoch 23/100\n",
            "\u001b[1m54/54\u001b[0m \u001b[32m━━━━━━━━━━━━━━━━━━━━\u001b[0m\u001b[37m\u001b[0m \u001b[1m17s\u001b[0m 312ms/step - loss: 0.0011 - mae: 0.0359 - mape: 7.1534 - mse: 0.0022 - rmse: 0.0466 - val_loss: 0.0021 - val_mae: 0.0536 - val_mape: 9.6103 - val_mse: 0.0042 - val_rmse: 0.0651\n",
            "Epoch 24/100\n",
            "\u001b[1m54/54\u001b[0m \u001b[32m━━━━━━━━━━━━━━━━━━━━\u001b[0m\u001b[37m\u001b[0m \u001b[1m16s\u001b[0m 305ms/step - loss: 0.0012 - mae: 0.0377 - mape: 8.3488 - mse: 0.0024 - rmse: 0.0489 - val_loss: 0.0016 - val_mae: 0.0469 - val_mape: 10.3505 - val_mse: 0.0032 - val_rmse: 0.0566\n",
            "Epoch 25/100\n",
            "\u001b[1m54/54\u001b[0m \u001b[32m━━━━━━━━━━━━━━━━━━━━\u001b[0m\u001b[37m\u001b[0m \u001b[1m17s\u001b[0m 307ms/step - loss: 0.0010 - mae: 0.0348 - mape: 13.7447 - mse: 0.0020 - rmse: 0.0448 - val_loss: 0.0012 - val_mae: 0.0400 - val_mape: 9.6285 - val_mse: 0.0023 - val_rmse: 0.0480\n",
            "Epoch 26/100\n",
            "\u001b[1m54/54\u001b[0m \u001b[32m━━━━━━━━━━━━━━━━━━━━\u001b[0m\u001b[37m\u001b[0m \u001b[1m17s\u001b[0m 311ms/step - loss: 0.0010 - mae: 0.0346 - mape: 6.7802 - mse: 0.0021 - rmse: 0.0452 - val_loss: 0.0013 - val_mae: 0.0403 - val_mape: 10.0409 - val_mse: 0.0026 - val_rmse: 0.0508\n",
            "Epoch 27/100\n",
            "\u001b[1m54/54\u001b[0m \u001b[32m━━━━━━━━━━━━━━━━━━━━\u001b[0m\u001b[37m\u001b[0m \u001b[1m0s\u001b[0m 283ms/step - loss: 0.0012 - mae: 0.0372 - mape: 11.5349 - mse: 0.0024 - rmse: 0.0486"
          ]
        },
        {
          "name": "stderr",
          "output_type": "stream",
          "text": [
            "WARNING:absl:You are saving your model as an HDF5 file via `model.save()` or `keras.saving.save_model(model)`. This file format is considered legacy. We recommend using instead the native Keras format, e.g. `model.save('my_model.keras')` or `keras.saving.save_model(model, 'my_model.keras')`. \n"
          ]
        },
        {
          "name": "stdout",
          "output_type": "stream",
          "text": [
            "\u001b[1m54/54\u001b[0m \u001b[32m━━━━━━━━━━━━━━━━━━━━\u001b[0m\u001b[37m\u001b[0m \u001b[1m17s\u001b[0m 312ms/step - loss: 0.0012 - mae: 0.0372 - mape: 11.5058 - mse: 0.0024 - rmse: 0.0486 - val_loss: 9.9750e-04 - val_mae: 0.0351 - val_mape: 7.7518 - val_mse: 0.0020 - val_rmse: 0.0447\n",
            "Epoch 28/100\n",
            "\u001b[1m54/54\u001b[0m \u001b[32m━━━━━━━━━━━━━━━━━━━━\u001b[0m\u001b[37m\u001b[0m \u001b[1m17s\u001b[0m 310ms/step - loss: 0.0010 - mae: 0.0347 - mape: 6.4731 - mse: 0.0020 - rmse: 0.0448 - val_loss: 0.0018 - val_mae: 0.0480 - val_mape: 8.7600 - val_mse: 0.0035 - val_rmse: 0.0595\n",
            "Epoch 29/100\n",
            "\u001b[1m54/54\u001b[0m \u001b[32m━━━━━━━━━━━━━━━━━━━━\u001b[0m\u001b[37m\u001b[0m \u001b[1m17s\u001b[0m 309ms/step - loss: 9.7213e-04 - mae: 0.0340 - mape: 7.9202 - mse: 0.0019 - rmse: 0.0441 - val_loss: 0.0011 - val_mae: 0.0392 - val_mape: 8.4472 - val_mse: 0.0023 - val_rmse: 0.0479\n",
            "Epoch 30/100\n",
            "\u001b[1m54/54\u001b[0m \u001b[32m━━━━━━━━━━━━━━━━━━━━\u001b[0m\u001b[37m\u001b[0m \u001b[1m17s\u001b[0m 310ms/step - loss: 0.0011 - mae: 0.0369 - mape: 11.6004 - mse: 0.0023 - rmse: 0.0474 - val_loss: 0.0018 - val_mae: 0.0502 - val_mape: 9.5955 - val_mse: 0.0037 - val_rmse: 0.0607\n",
            "Epoch 31/100\n",
            "\u001b[1m54/54\u001b[0m \u001b[32m━━━━━━━━━━━━━━━━━━━━\u001b[0m\u001b[37m\u001b[0m \u001b[1m17s\u001b[0m 307ms/step - loss: 9.7902e-04 - mae: 0.0343 - mape: 15.5363 - mse: 0.0020 - rmse: 0.0442 - val_loss: 0.0011 - val_mae: 0.0377 - val_mape: 8.4140 - val_mse: 0.0021 - val_rmse: 0.0459\n",
            "Epoch 32/100\n",
            "\u001b[1m54/54\u001b[0m \u001b[32m━━━━━━━━━━━━━━━━━━━━\u001b[0m\u001b[37m\u001b[0m \u001b[1m17s\u001b[0m 314ms/step - loss: 0.0012 - mae: 0.0365 - mape: 9.9424 - mse: 0.0023 - rmse: 0.0481 - val_loss: 0.0014 - val_mae: 0.0442 - val_mape: 8.3652 - val_mse: 0.0029 - val_rmse: 0.0535\n",
            "Epoch 33/100\n",
            "\u001b[1m54/54\u001b[0m \u001b[32m━━━━━━━━━━━━━━━━━━━━\u001b[0m\u001b[37m\u001b[0m \u001b[1m17s\u001b[0m 315ms/step - loss: 9.1793e-04 - mae: 0.0329 - mape: 9.1883 - mse: 0.0018 - rmse: 0.0428 - val_loss: 0.0017 - val_mae: 0.0466 - val_mape: 9.0721 - val_mse: 0.0034 - val_rmse: 0.0586\n",
            "Epoch 34/100\n",
            "\u001b[1m54/54\u001b[0m \u001b[32m━━━━━━━━━━━━━━━━━━━━\u001b[0m\u001b[37m\u001b[0m \u001b[1m17s\u001b[0m 312ms/step - loss: 0.0011 - mae: 0.0360 - mape: 8.1684 - mse: 0.0022 - rmse: 0.0467 - val_loss: 0.0010 - val_mae: 0.0367 - val_mape: 8.1411 - val_mse: 0.0020 - val_rmse: 0.0451\n",
            "Epoch 35/100\n",
            "\u001b[1m54/54\u001b[0m \u001b[32m━━━━━━━━━━━━━━━━━━━━\u001b[0m\u001b[37m\u001b[0m \u001b[1m17s\u001b[0m 312ms/step - loss: 9.3510e-04 - mae: 0.0326 - mape: 13.6092 - mse: 0.0019 - rmse: 0.0432 - val_loss: 0.0012 - val_mae: 0.0393 - val_mape: 7.7883 - val_mse: 0.0024 - val_rmse: 0.0488\n",
            "Epoch 36/100\n",
            "\u001b[1m54/54\u001b[0m \u001b[32m━━━━━━━━━━━━━━━━━━━━\u001b[0m\u001b[37m\u001b[0m \u001b[1m17s\u001b[0m 315ms/step - loss: 0.0010 - mae: 0.0351 - mape: 5.7424 - mse: 0.0021 - rmse: 0.0454 - val_loss: 0.0018 - val_mae: 0.0469 - val_mape: 8.7414 - val_mse: 0.0035 - val_rmse: 0.0592\n",
            "Epoch 37/100\n",
            "\u001b[1m54/54\u001b[0m \u001b[32m━━━━━━━━━━━━━━━━━━━━\u001b[0m\u001b[37m\u001b[0m \u001b[1m0s\u001b[0m 284ms/step - loss: 0.0012 - mae: 0.0369 - mape: 7.3064 - mse: 0.0023 - rmse: 0.0482"
          ]
        },
        {
          "name": "stderr",
          "output_type": "stream",
          "text": [
            "WARNING:absl:You are saving your model as an HDF5 file via `model.save()` or `keras.saving.save_model(model)`. This file format is considered legacy. We recommend using instead the native Keras format, e.g. `model.save('my_model.keras')` or `keras.saving.save_model(model, 'my_model.keras')`. \n"
          ]
        },
        {
          "name": "stdout",
          "output_type": "stream",
          "text": [
            "\u001b[1m54/54\u001b[0m \u001b[32m━━━━━━━━━━━━━━━━━━━━\u001b[0m\u001b[37m\u001b[0m \u001b[1m17s\u001b[0m 316ms/step - loss: 0.0012 - mae: 0.0369 - mape: 7.3544 - mse: 0.0023 - rmse: 0.0482 - val_loss: 9.9748e-04 - val_mae: 0.0363 - val_mape: 8.1817 - val_mse: 0.0020 - val_rmse: 0.0447\n",
            "Epoch 38/100\n",
            "\u001b[1m54/54\u001b[0m \u001b[32m━━━━━━━━━━━━━━━━━━━━\u001b[0m\u001b[37m\u001b[0m \u001b[1m17s\u001b[0m 309ms/step - loss: 0.0010 - mae: 0.0351 - mape: 9.3056 - mse: 0.0021 - rmse: 0.0455 - val_loss: 0.0011 - val_mae: 0.0376 - val_mape: 8.6784 - val_mse: 0.0021 - val_rmse: 0.0459\n",
            "Epoch 39/100\n",
            "\u001b[1m54/54\u001b[0m \u001b[32m━━━━━━━━━━━━━━━━━━━━\u001b[0m\u001b[37m\u001b[0m \u001b[1m17s\u001b[0m 316ms/step - loss: 0.0011 - mae: 0.0361 - mape: 19.4770 - mse: 0.0021 - rmse: 0.0461 - val_loss: 0.0020 - val_mae: 0.0509 - val_mape: 8.1851 - val_mse: 0.0040 - val_rmse: 0.0629\n",
            "Epoch 40/100\n",
            "\u001b[1m54/54\u001b[0m \u001b[32m━━━━━━━━━━━━━━━━━━━━\u001b[0m\u001b[37m\u001b[0m \u001b[1m17s\u001b[0m 317ms/step - loss: 0.0011 - mae: 0.0357 - mape: 10.7504 - mse: 0.0022 - rmse: 0.0467 - val_loss: 0.0011 - val_mae: 0.0382 - val_mape: 7.9567 - val_mse: 0.0022 - val_rmse: 0.0464\n",
            "Epoch 41/100\n",
            "\u001b[1m54/54\u001b[0m \u001b[32m━━━━━━━━━━━━━━━━━━━━\u001b[0m\u001b[37m\u001b[0m \u001b[1m17s\u001b[0m 317ms/step - loss: 9.0529e-04 - mae: 0.0326 - mape: 5.8980 - mse: 0.0018 - rmse: 0.0425 - val_loss: 0.0013 - val_mae: 0.0420 - val_mape: 7.9498 - val_mse: 0.0026 - val_rmse: 0.0508\n",
            "Epoch 42/100\n",
            "\u001b[1m54/54\u001b[0m \u001b[32m━━━━━━━━━━━━━━━━━━━━\u001b[0m\u001b[37m\u001b[0m \u001b[1m16s\u001b[0m 302ms/step - loss: 8.5150e-04 - mae: 0.0321 - mape: 8.8013 - mse: 0.0017 - rmse: 0.0412 - val_loss: 0.0010 - val_mae: 0.0360 - val_mape: 8.5514 - val_mse: 0.0020 - val_rmse: 0.0450\n",
            "Epoch 43/100\n",
            "\u001b[1m54/54\u001b[0m \u001b[32m━━━━━━━━━━━━━━━━━━━━\u001b[0m\u001b[37m\u001b[0m \u001b[1m17s\u001b[0m 312ms/step - loss: 0.0013 - mae: 0.0389 - mape: 10.0135 - mse: 0.0025 - rmse: 0.0500 - val_loss: 0.0016 - val_mae: 0.0447 - val_mape: 7.6082 - val_mse: 0.0031 - val_rmse: 0.0560\n",
            "Epoch 44/100\n",
            "\u001b[1m54/54\u001b[0m \u001b[32m━━━━━━━━━━━━━━━━━━━━\u001b[0m\u001b[37m\u001b[0m \u001b[1m17s\u001b[0m 317ms/step - loss: 8.0209e-04 - mae: 0.0305 - mape: 8.4159 - mse: 0.0016 - rmse: 0.0400 - val_loss: 0.0014 - val_mae: 0.0420 - val_mape: 7.0313 - val_mse: 0.0027 - val_rmse: 0.0522\n",
            "Epoch 45/100\n",
            "\u001b[1m54/54\u001b[0m \u001b[32m━━━━━━━━━━━━━━━━━━━━\u001b[0m\u001b[37m\u001b[0m \u001b[1m0s\u001b[0m 282ms/step - loss: 0.0010 - mae: 0.0348 - mape: 6.5104 - mse: 0.0021 - rmse: 0.0458"
          ]
        },
        {
          "name": "stderr",
          "output_type": "stream",
          "text": [
            "WARNING:absl:You are saving your model as an HDF5 file via `model.save()` or `keras.saving.save_model(model)`. This file format is considered legacy. We recommend using instead the native Keras format, e.g. `model.save('my_model.keras')` or `keras.saving.save_model(model, 'my_model.keras')`. \n"
          ]
        },
        {
          "name": "stdout",
          "output_type": "stream",
          "text": [
            "\u001b[1m54/54\u001b[0m \u001b[32m━━━━━━━━━━━━━━━━━━━━\u001b[0m\u001b[37m\u001b[0m \u001b[1m17s\u001b[0m 312ms/step - loss: 0.0010 - mae: 0.0348 - mape: 6.5536 - mse: 0.0021 - rmse: 0.0458 - val_loss: 9.5557e-04 - val_mae: 0.0354 - val_mape: 7.2470 - val_mse: 0.0019 - val_rmse: 0.0437\n",
            "Epoch 46/100\n",
            "\u001b[1m54/54\u001b[0m \u001b[32m━━━━━━━━━━━━━━━━━━━━\u001b[0m\u001b[37m\u001b[0m \u001b[1m17s\u001b[0m 315ms/step - loss: 9.7353e-04 - mae: 0.0344 - mape: 11.1827 - mse: 0.0019 - rmse: 0.0441 - val_loss: 0.0013 - val_mae: 0.0421 - val_mape: 7.4487 - val_mse: 0.0025 - val_rmse: 0.0502\n",
            "Epoch 47/100\n",
            "\u001b[1m54/54\u001b[0m \u001b[32m━━━━━━━━━━━━━━━━━━━━\u001b[0m\u001b[37m\u001b[0m \u001b[1m17s\u001b[0m 318ms/step - loss: 8.8930e-04 - mae: 0.0324 - mape: 10.3032 - mse: 0.0018 - rmse: 0.0422 - val_loss: 0.0020 - val_mae: 0.0513 - val_mape: 7.2142 - val_mse: 0.0039 - val_rmse: 0.0627\n",
            "Epoch 48/100\n",
            "\u001b[1m54/54\u001b[0m \u001b[32m━━━━━━━━━━━━━━━━━━━━\u001b[0m\u001b[37m\u001b[0m \u001b[1m17s\u001b[0m 311ms/step - loss: 9.3790e-04 - mae: 0.0331 - mape: 8.8432 - mse: 0.0019 - rmse: 0.0433 - val_loss: 0.0020 - val_mae: 0.0507 - val_mape: 8.8051 - val_mse: 0.0040 - val_rmse: 0.0632\n",
            "Epoch 49/100\n",
            "\u001b[1m54/54\u001b[0m \u001b[32m━━━━━━━━━━━━━━━━━━━━\u001b[0m\u001b[37m\u001b[0m \u001b[1m17s\u001b[0m 312ms/step - loss: 0.0012 - mae: 0.0381 - mape: 9.2160 - mse: 0.0024 - rmse: 0.0493 - val_loss: 0.0023 - val_mae: 0.0549 - val_mape: 9.9844 - val_mse: 0.0046 - val_rmse: 0.0681\n",
            "Epoch 50/100\n",
            "\u001b[1m54/54\u001b[0m \u001b[32m━━━━━━━━━━━━━━━━━━━━\u001b[0m\u001b[37m\u001b[0m \u001b[1m17s\u001b[0m 312ms/step - loss: 9.0564e-04 - mae: 0.0323 - mape: 6.9656 - mse: 0.0018 - rmse: 0.0425 - val_loss: 0.0010 - val_mae: 0.0375 - val_mape: 7.6652 - val_mse: 0.0020 - val_rmse: 0.0451\n",
            "Epoch 51/100\n",
            "\u001b[1m54/54\u001b[0m \u001b[32m━━━━━━━━━━━━━━━━━━━━\u001b[0m\u001b[37m\u001b[0m \u001b[1m17s\u001b[0m 313ms/step - loss: 8.9367e-04 - mae: 0.0326 - mape: 5.9497 - mse: 0.0018 - rmse: 0.0422 - val_loss: 0.0010 - val_mae: 0.0363 - val_mape: 6.4001 - val_mse: 0.0021 - val_rmse: 0.0454\n",
            "Epoch 52/100\n",
            "\u001b[1m54/54\u001b[0m \u001b[32m━━━━━━━━━━━━━━━━━━━━\u001b[0m\u001b[37m\u001b[0m \u001b[1m17s\u001b[0m 310ms/step - loss: 0.0011 - mae: 0.0350 - mape: 7.7803 - mse: 0.0021 - rmse: 0.0461 - val_loss: 0.0012 - val_mae: 0.0415 - val_mape: 6.9188 - val_mse: 0.0025 - val_rmse: 0.0499\n",
            "Epoch 53/100\n",
            "\u001b[1m54/54\u001b[0m \u001b[32m━━━━━━━━━━━━━━━━━━━━\u001b[0m\u001b[37m\u001b[0m \u001b[1m17s\u001b[0m 310ms/step - loss: 0.0010 - mae: 0.0347 - mape: 8.8900 - mse: 0.0021 - rmse: 0.0457 - val_loss: 0.0019 - val_mae: 0.0490 - val_mape: 8.2452 - val_mse: 0.0039 - val_rmse: 0.0621\n",
            "Epoch 54/100\n",
            "\u001b[1m54/54\u001b[0m \u001b[32m━━━━━━━━━━━━━━━━━━━━\u001b[0m\u001b[37m\u001b[0m \u001b[1m17s\u001b[0m 308ms/step - loss: 8.5078e-04 - mae: 0.0309 - mape: 7.9116 - mse: 0.0017 - rmse: 0.0412 - val_loss: 0.0014 - val_mae: 0.0437 - val_mape: 7.5919 - val_mse: 0.0028 - val_rmse: 0.0525\n",
            "Epoch 55/100\n",
            "\u001b[1m54/54\u001b[0m \u001b[32m━━━━━━━━━━━━━━━━━━━━\u001b[0m\u001b[37m\u001b[0m \u001b[1m0s\u001b[0m 279ms/step - loss: 8.0465e-04 - mae: 0.0305 - mape: 10.5871 - mse: 0.0016 - rmse: 0.0401"
          ]
        },
        {
          "name": "stderr",
          "output_type": "stream",
          "text": [
            "WARNING:absl:You are saving your model as an HDF5 file via `model.save()` or `keras.saving.save_model(model)`. This file format is considered legacy. We recommend using instead the native Keras format, e.g. `model.save('my_model.keras')` or `keras.saving.save_model(model, 'my_model.keras')`. \n"
          ]
        },
        {
          "name": "stdout",
          "output_type": "stream",
          "text": [
            "\u001b[1m54/54\u001b[0m \u001b[32m━━━━━━━━━━━━━━━━━━━━\u001b[0m\u001b[37m\u001b[0m \u001b[1m17s\u001b[0m 309ms/step - loss: 8.0489e-04 - mae: 0.0305 - mape: 10.5364 - mse: 0.0016 - rmse: 0.0401 - val_loss: 9.3251e-04 - val_mae: 0.0350 - val_mape: 6.2157 - val_mse: 0.0019 - val_rmse: 0.0432\n",
            "Epoch 56/100\n",
            "\u001b[1m54/54\u001b[0m \u001b[32m━━━━━━━━━━━━━━━━━━━━\u001b[0m\u001b[37m\u001b[0m \u001b[1m17s\u001b[0m 314ms/step - loss: 9.4265e-04 - mae: 0.0324 - mape: 9.4753 - mse: 0.0019 - rmse: 0.0434 - val_loss: 0.0018 - val_mae: 0.0481 - val_mape: 8.6543 - val_mse: 0.0035 - val_rmse: 0.0592\n",
            "Epoch 57/100\n",
            "\u001b[1m54/54\u001b[0m \u001b[32m━━━━━━━━━━━━━━━━━━━━\u001b[0m\u001b[37m\u001b[0m \u001b[1m17s\u001b[0m 307ms/step - loss: 9.7915e-04 - mae: 0.0340 - mape: 7.6164 - mse: 0.0020 - rmse: 0.0442 - val_loss: 0.0034 - val_mae: 0.0679 - val_mape: 8.8264 - val_mse: 0.0069 - val_rmse: 0.0828\n",
            "Epoch 58/100\n",
            "\u001b[1m54/54\u001b[0m \u001b[32m━━━━━━━━━━━━━━━━━━━━\u001b[0m\u001b[37m\u001b[0m \u001b[1m17s\u001b[0m 311ms/step - loss: 0.0012 - mae: 0.0371 - mape: 8.6771 - mse: 0.0024 - rmse: 0.0485 - val_loss: 9.7370e-04 - val_mae: 0.0361 - val_mape: 7.1190 - val_mse: 0.0019 - val_rmse: 0.0441\n",
            "Epoch 59/100\n",
            "\u001b[1m54/54\u001b[0m \u001b[32m━━━━━━━━━━━━━━━━━━━━\u001b[0m\u001b[37m\u001b[0m \u001b[1m17s\u001b[0m 309ms/step - loss: 8.7804e-04 - mae: 0.0315 - mape: 7.1391 - mse: 0.0018 - rmse: 0.0418 - val_loss: 0.0018 - val_mae: 0.0474 - val_mape: 6.9690 - val_mse: 0.0036 - val_rmse: 0.0596\n",
            "Epoch 60/100\n",
            "\u001b[1m54/54\u001b[0m \u001b[32m━━━━━━━━━━━━━━━━━━━━\u001b[0m\u001b[37m\u001b[0m \u001b[1m17s\u001b[0m 313ms/step - loss: 0.0012 - mae: 0.0374 - mape: 7.0581 - mse: 0.0024 - rmse: 0.0489 - val_loss: 0.0023 - val_mae: 0.0560 - val_mape: 7.4916 - val_mse: 0.0045 - val_rmse: 0.0673\n",
            "Epoch 61/100\n",
            "\u001b[1m54/54\u001b[0m \u001b[32m━━━━━━━━━━━━━━━━━━━━\u001b[0m\u001b[37m\u001b[0m \u001b[1m17s\u001b[0m 308ms/step - loss: 9.1824e-04 - mae: 0.0328 - mape: 9.6714 - mse: 0.0018 - rmse: 0.0428 - val_loss: 0.0014 - val_mae: 0.0428 - val_mape: 6.5317 - val_mse: 0.0028 - val_rmse: 0.0527\n",
            "Epoch 62/100\n",
            "\u001b[1m54/54\u001b[0m \u001b[32m━━━━━━━━━━━━━━━━━━━━\u001b[0m\u001b[37m\u001b[0m \u001b[1m17s\u001b[0m 311ms/step - loss: 9.6077e-04 - mae: 0.0339 - mape: 9.1322 - mse: 0.0019 - rmse: 0.0438 - val_loss: 0.0012 - val_mae: 0.0398 - val_mape: 6.4795 - val_mse: 0.0023 - val_rmse: 0.0483\n",
            "Epoch 63/100\n",
            "\u001b[1m54/54\u001b[0m \u001b[32m━━━━━━━━━━━━━━━━━━━━\u001b[0m\u001b[37m\u001b[0m \u001b[1m17s\u001b[0m 317ms/step - loss: 7.5891e-04 - mae: 0.0296 - mape: 8.5162 - mse: 0.0015 - rmse: 0.0389 - val_loss: 0.0012 - val_mae: 0.0394 - val_mape: 6.7414 - val_mse: 0.0024 - val_rmse: 0.0488\n",
            "Epoch 64/100\n",
            "\u001b[1m54/54\u001b[0m \u001b[32m━━━━━━━━━━━━━━━━━━━━\u001b[0m\u001b[37m\u001b[0m \u001b[1m17s\u001b[0m 318ms/step - loss: 8.6408e-04 - mae: 0.0320 - mape: 5.0805 - mse: 0.0017 - rmse: 0.0415 - val_loss: 0.0010 - val_mae: 0.0370 - val_mape: 7.2349 - val_mse: 0.0020 - val_rmse: 0.0450\n",
            "Epoch 65/100\n",
            "\u001b[1m54/54\u001b[0m \u001b[32m━━━━━━━━━━━━━━━━━━━━\u001b[0m\u001b[37m\u001b[0m \u001b[1m17s\u001b[0m 313ms/step - loss: 7.9933e-04 - mae: 0.0308 - mape: 6.5850 - mse: 0.0016 - rmse: 0.0400 - val_loss: 0.0011 - val_mae: 0.0392 - val_mape: 7.1819 - val_mse: 0.0023 - val_rmse: 0.0478\n",
            "Epoch 66/100\n",
            "\u001b[1m54/54\u001b[0m \u001b[32m━━━━━━━━━━━━━━━━━━━━\u001b[0m\u001b[37m\u001b[0m \u001b[1m17s\u001b[0m 313ms/step - loss: 8.7161e-04 - mae: 0.0327 - mape: 10.5024 - mse: 0.0017 - rmse: 0.0417 - val_loss: 0.0015 - val_mae: 0.0448 - val_mape: 6.6741 - val_mse: 0.0030 - val_rmse: 0.0550\n",
            "Epoch 67/100\n",
            "\u001b[1m54/54\u001b[0m \u001b[32m━━━━━━━━━━━━━━━━━━━━\u001b[0m\u001b[37m\u001b[0m \u001b[1m17s\u001b[0m 307ms/step - loss: 8.5748e-04 - mae: 0.0314 - mape: 9.4784 - mse: 0.0017 - rmse: 0.0414 - val_loss: 0.0017 - val_mae: 0.0477 - val_mape: 6.7886 - val_mse: 0.0034 - val_rmse: 0.0582\n",
            "Epoch 68/100\n",
            "\u001b[1m54/54\u001b[0m \u001b[32m━━━━━━━━━━━━━━━━━━━━\u001b[0m\u001b[37m\u001b[0m \u001b[1m16s\u001b[0m 306ms/step - loss: 0.0011 - mae: 0.0361 - mape: 7.5306 - mse: 0.0021 - rmse: 0.0461 - val_loss: 0.0014 - val_mae: 0.0435 - val_mape: 6.3276 - val_mse: 0.0028 - val_rmse: 0.0530\n",
            "Epoch 69/100\n",
            "\u001b[1m54/54\u001b[0m \u001b[32m━━━━━━━━━━━━━━━━━━━━\u001b[0m\u001b[37m\u001b[0m \u001b[1m17s\u001b[0m 309ms/step - loss: 0.0015 - mae: 0.0427 - mape: 10.5576 - mse: 0.0030 - rmse: 0.0544 - val_loss: 0.0016 - val_mae: 0.0472 - val_mape: 7.6199 - val_mse: 0.0033 - val_rmse: 0.0573\n",
            "Epoch 70/100\n",
            "\u001b[1m54/54\u001b[0m \u001b[32m━━━━━━━━━━━━━━━━━━━━\u001b[0m\u001b[37m\u001b[0m \u001b[1m17s\u001b[0m 316ms/step - loss: 8.7978e-04 - mae: 0.0318 - mape: 5.7426 - mse: 0.0018 - rmse: 0.0419 - val_loss: 0.0013 - val_mae: 0.0409 - val_mape: 5.6746 - val_mse: 0.0026 - val_rmse: 0.0505\n",
            "Epoch 71/100\n",
            "\u001b[1m54/54\u001b[0m \u001b[32m━━━━━━━━━━━━━━━━━━━━\u001b[0m\u001b[37m\u001b[0m \u001b[1m0s\u001b[0m 284ms/step - loss: 9.2448e-04 - mae: 0.0330 - mape: 5.9215 - mse: 0.0018 - rmse: 0.0429"
          ]
        },
        {
          "name": "stderr",
          "output_type": "stream",
          "text": [
            "WARNING:absl:You are saving your model as an HDF5 file via `model.save()` or `keras.saving.save_model(model)`. This file format is considered legacy. We recommend using instead the native Keras format, e.g. `model.save('my_model.keras')` or `keras.saving.save_model(model, 'my_model.keras')`. \n"
          ]
        },
        {
          "name": "stdout",
          "output_type": "stream",
          "text": [
            "\u001b[1m54/54\u001b[0m \u001b[32m━━━━━━━━━━━━━━━━━━━━\u001b[0m\u001b[37m\u001b[0m \u001b[1m17s\u001b[0m 314ms/step - loss: 9.2429e-04 - mae: 0.0330 - mape: 5.9456 - mse: 0.0018 - rmse: 0.0429 - val_loss: 9.1007e-04 - val_mae: 0.0349 - val_mape: 6.1639 - val_mse: 0.0018 - val_rmse: 0.0427\n",
            "Epoch 72/100\n",
            "\u001b[1m54/54\u001b[0m \u001b[32m━━━━━━━━━━━━━━━━━━━━\u001b[0m\u001b[37m\u001b[0m \u001b[1m17s\u001b[0m 311ms/step - loss: 7.6046e-04 - mae: 0.0299 - mape: 7.9764 - mse: 0.0015 - rmse: 0.0390 - val_loss: 0.0012 - val_mae: 0.0393 - val_mape: 6.2928 - val_mse: 0.0023 - val_rmse: 0.0482\n",
            "Epoch 73/100\n",
            "\u001b[1m54/54\u001b[0m \u001b[32m━━━━━━━━━━━━━━━━━━━━\u001b[0m\u001b[37m\u001b[0m \u001b[1m17s\u001b[0m 311ms/step - loss: 7.1824e-04 - mae: 0.0285 - mape: 6.6248 - mse: 0.0014 - rmse: 0.0379 - val_loss: 0.0015 - val_mae: 0.0460 - val_mape: 7.2255 - val_mse: 0.0031 - val_rmse: 0.0557\n",
            "Epoch 74/100\n",
            "\u001b[1m54/54\u001b[0m \u001b[32m━━━━━━━━━━━━━━━━━━━━\u001b[0m\u001b[37m\u001b[0m \u001b[1m17s\u001b[0m 307ms/step - loss: 7.7442e-04 - mae: 0.0301 - mape: 10.4242 - mse: 0.0015 - rmse: 0.0393 - val_loss: 0.0012 - val_mae: 0.0413 - val_mape: 6.7712 - val_mse: 0.0025 - val_rmse: 0.0499\n",
            "Epoch 75/100\n",
            "\u001b[1m54/54\u001b[0m \u001b[32m━━━━━━━━━━━━━━━━━━━━\u001b[0m\u001b[37m\u001b[0m \u001b[1m0s\u001b[0m 281ms/step - loss: 7.8540e-04 - mae: 0.0304 - mape: 14.1372 - mse: 0.0016 - rmse: 0.0396"
          ]
        },
        {
          "name": "stderr",
          "output_type": "stream",
          "text": [
            "WARNING:absl:You are saving your model as an HDF5 file via `model.save()` or `keras.saving.save_model(model)`. This file format is considered legacy. We recommend using instead the native Keras format, e.g. `model.save('my_model.keras')` or `keras.saving.save_model(model, 'my_model.keras')`. \n"
          ]
        },
        {
          "name": "stdout",
          "output_type": "stream",
          "text": [
            "\u001b[1m54/54\u001b[0m \u001b[32m━━━━━━━━━━━━━━━━━━━━\u001b[0m\u001b[37m\u001b[0m \u001b[1m17s\u001b[0m 310ms/step - loss: 7.8721e-04 - mae: 0.0304 - mape: 14.0564 - mse: 0.0016 - rmse: 0.0396 - val_loss: 8.7401e-04 - val_mae: 0.0332 - val_mape: 6.7144 - val_mse: 0.0017 - val_rmse: 0.0418\n",
            "Epoch 76/100\n",
            "\u001b[1m54/54\u001b[0m \u001b[32m━━━━━━━━━━━━━━━━━━━━\u001b[0m\u001b[37m\u001b[0m \u001b[1m17s\u001b[0m 314ms/step - loss: 0.0014 - mae: 0.0405 - mape: 7.2085 - mse: 0.0028 - rmse: 0.0530 - val_loss: 0.0015 - val_mae: 0.0450 - val_mape: 5.9865 - val_mse: 0.0031 - val_rmse: 0.0555\n",
            "Epoch 77/100\n",
            "\u001b[1m54/54\u001b[0m \u001b[32m━━━━━━━━━━━━━━━━━━━━\u001b[0m\u001b[37m\u001b[0m \u001b[1m17s\u001b[0m 322ms/step - loss: 7.9830e-04 - mae: 0.0304 - mape: 6.0502 - mse: 0.0016 - rmse: 0.0399 - val_loss: 0.0014 - val_mae: 0.0433 - val_mape: 5.9282 - val_mse: 0.0028 - val_rmse: 0.0533\n",
            "Epoch 78/100\n",
            "\u001b[1m54/54\u001b[0m \u001b[32m━━━━━━━━━━━━━━━━━━━━\u001b[0m\u001b[37m\u001b[0m \u001b[1m17s\u001b[0m 313ms/step - loss: 8.7722e-04 - mae: 0.0318 - mape: 5.5397 - mse: 0.0018 - rmse: 0.0418 - val_loss: 0.0015 - val_mae: 0.0454 - val_mape: 6.1324 - val_mse: 0.0030 - val_rmse: 0.0547\n",
            "Epoch 79/100\n",
            "\u001b[1m54/54\u001b[0m \u001b[32m━━━━━━━━━━━━━━━━━━━━\u001b[0m\u001b[37m\u001b[0m \u001b[1m17s\u001b[0m 309ms/step - loss: 7.4356e-04 - mae: 0.0294 - mape: 4.6874 - mse: 0.0015 - rmse: 0.0386 - val_loss: 0.0011 - val_mae: 0.0403 - val_mape: 6.5393 - val_mse: 0.0023 - val_rmse: 0.0478\n",
            "Epoch 80/100\n",
            "\u001b[1m54/54\u001b[0m \u001b[32m━━━━━━━━━━━━━━━━━━━━\u001b[0m\u001b[37m\u001b[0m \u001b[1m17s\u001b[0m 309ms/step - loss: 8.4494e-04 - mae: 0.0315 - mape: 6.6478 - mse: 0.0017 - rmse: 0.0410 - val_loss: 0.0015 - val_mae: 0.0451 - val_mape: 7.1316 - val_mse: 0.0030 - val_rmse: 0.0543\n",
            "Epoch 81/100\n",
            "\u001b[1m54/54\u001b[0m \u001b[32m━━━━━━━━━━━━━━━━━━━━\u001b[0m\u001b[37m\u001b[0m \u001b[1m17s\u001b[0m 307ms/step - loss: 7.8818e-04 - mae: 0.0306 - mape: 7.3047 - mse: 0.0016 - rmse: 0.0397 - val_loss: 8.9238e-04 - val_mae: 0.0340 - val_mape: 6.4588 - val_mse: 0.0018 - val_rmse: 0.0422\n",
            "Epoch 82/100\n",
            "\u001b[1m54/54\u001b[0m \u001b[32m━━━━━━━━━━━━━━━━━━━━\u001b[0m\u001b[37m\u001b[0m \u001b[1m17s\u001b[0m 310ms/step - loss: 0.0010 - mae: 0.0349 - mape: 9.9751 - mse: 0.0020 - rmse: 0.0447 - val_loss: 0.0020 - val_mae: 0.0516 - val_mape: 7.2491 - val_mse: 0.0040 - val_rmse: 0.0629\n",
            "Epoch 83/100\n",
            "\u001b[1m54/54\u001b[0m \u001b[32m━━━━━━━━━━━━━━━━━━━━\u001b[0m\u001b[37m\u001b[0m \u001b[1m17s\u001b[0m 308ms/step - loss: 7.3728e-04 - mae: 0.0295 - mape: 6.7598 - mse: 0.0015 - rmse: 0.0384 - val_loss: 9.5279e-04 - val_mae: 0.0363 - val_mape: 6.6585 - val_mse: 0.0019 - val_rmse: 0.0437\n",
            "Epoch 84/100\n",
            "\u001b[1m54/54\u001b[0m \u001b[32m━━━━━━━━━━━━━━━━━━━━\u001b[0m\u001b[37m\u001b[0m \u001b[1m17s\u001b[0m 308ms/step - loss: 8.1412e-04 - mae: 0.0307 - mape: 7.2304 - mse: 0.0016 - rmse: 0.0403 - val_loss: 0.0018 - val_mae: 0.0498 - val_mape: 6.4511 - val_mse: 0.0036 - val_rmse: 0.0597\n",
            "Epoch 85/100\n",
            "\u001b[1m54/54\u001b[0m \u001b[32m━━━━━━━━━━━━━━━━━━━━\u001b[0m\u001b[37m\u001b[0m \u001b[1m17s\u001b[0m 307ms/step - loss: 7.6725e-04 - mae: 0.0297 - mape: 6.0522 - mse: 0.0015 - rmse: 0.0391 - val_loss: 0.0014 - val_mae: 0.0441 - val_mape: 7.1094 - val_mse: 0.0028 - val_rmse: 0.0528\n",
            "Epoch 86/100\n",
            "\u001b[1m54/54\u001b[0m \u001b[32m━━━━━━━━━━━━━━━━━━━━\u001b[0m\u001b[37m\u001b[0m \u001b[1m17s\u001b[0m 309ms/step - loss: 8.1498e-04 - mae: 0.0308 - mape: 11.5016 - mse: 0.0016 - rmse: 0.0403 - val_loss: 0.0020 - val_mae: 0.0528 - val_mape: 6.6844 - val_mse: 0.0040 - val_rmse: 0.0634\n",
            "Epoch 87/100\n",
            "\u001b[1m54/54\u001b[0m \u001b[32m━━━━━━━━━━━━━━━━━━━━\u001b[0m\u001b[37m\u001b[0m \u001b[1m16s\u001b[0m 306ms/step - loss: 0.0011 - mae: 0.0368 - mape: 6.9074 - mse: 0.0023 - rmse: 0.0476 - val_loss: 0.0011 - val_mae: 0.0378 - val_mape: 5.6039 - val_mse: 0.0021 - val_rmse: 0.0459\n",
            "Epoch 88/100\n",
            "\u001b[1m54/54\u001b[0m \u001b[32m━━━━━━━━━━━━━━━━━━━━\u001b[0m\u001b[37m\u001b[0m \u001b[1m16s\u001b[0m 305ms/step - loss: 6.9411e-04 - mae: 0.0280 - mape: 7.7284 - mse: 0.0014 - rmse: 0.0372 - val_loss: 0.0011 - val_mae: 0.0386 - val_mape: 6.3472 - val_mse: 0.0022 - val_rmse: 0.0465\n",
            "Epoch 89/100\n",
            "\u001b[1m54/54\u001b[0m \u001b[32m━━━━━━━━━━━━━━━━━━━━\u001b[0m\u001b[37m\u001b[0m \u001b[1m16s\u001b[0m 304ms/step - loss: 8.0065e-04 - mae: 0.0306 - mape: 5.2920 - mse: 0.0016 - rmse: 0.0400 - val_loss: 9.0775e-04 - val_mae: 0.0351 - val_mape: 6.1233 - val_mse: 0.0018 - val_rmse: 0.0426\n",
            "Epoch 90/100\n",
            "\u001b[1m54/54\u001b[0m \u001b[32m━━━━━━━━━━━━━━━━━━━━\u001b[0m\u001b[37m\u001b[0m \u001b[1m0s\u001b[0m 275ms/step - loss: 9.7619e-04 - mae: 0.0345 - mape: 8.7672 - mse: 0.0020 - rmse: 0.0442"
          ]
        },
        {
          "name": "stderr",
          "output_type": "stream",
          "text": [
            "WARNING:absl:You are saving your model as an HDF5 file via `model.save()` or `keras.saving.save_model(model)`. This file format is considered legacy. We recommend using instead the native Keras format, e.g. `model.save('my_model.keras')` or `keras.saving.save_model(model, 'my_model.keras')`. \n"
          ]
        },
        {
          "name": "stdout",
          "output_type": "stream",
          "text": [
            "\u001b[1m54/54\u001b[0m \u001b[32m━━━━━━━━━━━━━━━━━━━━\u001b[0m\u001b[37m\u001b[0m \u001b[1m16s\u001b[0m 305ms/step - loss: 9.7399e-04 - mae: 0.0345 - mape: 8.7616 - mse: 0.0019 - rmse: 0.0441 - val_loss: 8.3609e-04 - val_mae: 0.0330 - val_mape: 4.3261 - val_mse: 0.0017 - val_rmse: 0.0409\n",
            "Epoch 91/100\n",
            "\u001b[1m54/54\u001b[0m \u001b[32m━━━━━━━━━━━━━━━━━━━━\u001b[0m\u001b[37m\u001b[0m \u001b[1m17s\u001b[0m 307ms/step - loss: 7.9179e-04 - mae: 0.0301 - mape: 5.3857 - mse: 0.0016 - rmse: 0.0397 - val_loss: 0.0021 - val_mae: 0.0540 - val_mape: 7.8441 - val_mse: 0.0042 - val_rmse: 0.0650\n",
            "Epoch 92/100\n",
            "\u001b[1m54/54\u001b[0m \u001b[32m━━━━━━━━━━━━━━━━━━━━\u001b[0m\u001b[37m\u001b[0m \u001b[1m16s\u001b[0m 305ms/step - loss: 9.9247e-04 - mae: 0.0343 - mape: 6.4105 - mse: 0.0020 - rmse: 0.0445 - val_loss: 8.5588e-04 - val_mae: 0.0347 - val_mape: 7.5392 - val_mse: 0.0017 - val_rmse: 0.0414\n",
            "Epoch 93/100\n",
            "\u001b[1m54/54\u001b[0m \u001b[32m━━━━━━━━━━━━━━━━━━━━\u001b[0m\u001b[37m\u001b[0m \u001b[1m17s\u001b[0m 309ms/step - loss: 7.4528e-04 - mae: 0.0294 - mape: 5.0395 - mse: 0.0015 - rmse: 0.0386 - val_loss: 8.5187e-04 - val_mae: 0.0338 - val_mape: 5.0889 - val_mse: 0.0017 - val_rmse: 0.0413\n",
            "Epoch 94/100\n",
            "\u001b[1m54/54\u001b[0m \u001b[32m━━━━━━━━━━━━━━━━━━━━\u001b[0m\u001b[37m\u001b[0m \u001b[1m17s\u001b[0m 306ms/step - loss: 6.9653e-04 - mae: 0.0283 - mape: 6.5263 - mse: 0.0014 - rmse: 0.0372 - val_loss: 0.0015 - val_mae: 0.0457 - val_mape: 5.4109 - val_mse: 0.0031 - val_rmse: 0.0553\n",
            "Epoch 95/100\n",
            "\u001b[1m54/54\u001b[0m \u001b[32m━━━━━━━━━━━━━━━━━━━━\u001b[0m\u001b[37m\u001b[0m \u001b[1m17s\u001b[0m 309ms/step - loss: 8.6770e-04 - mae: 0.0318 - mape: 8.5110 - mse: 0.0017 - rmse: 0.0416 - val_loss: 0.0011 - val_mae: 0.0380 - val_mape: 5.6630 - val_mse: 0.0021 - val_rmse: 0.0463\n",
            "Epoch 96/100\n",
            "\u001b[1m54/54\u001b[0m \u001b[32m━━━━━━━━━━━━━━━━━━━━\u001b[0m\u001b[37m\u001b[0m \u001b[1m17s\u001b[0m 306ms/step - loss: 7.4209e-04 - mae: 0.0294 - mape: 8.4907 - mse: 0.0015 - rmse: 0.0385 - val_loss: 0.0011 - val_mae: 0.0399 - val_mape: 5.8613 - val_mse: 0.0023 - val_rmse: 0.0478\n",
            "Epoch 97/100\n",
            "\u001b[1m54/54\u001b[0m \u001b[32m━━━━━━━━━━━━━━━━━━━━\u001b[0m\u001b[37m\u001b[0m \u001b[1m17s\u001b[0m 307ms/step - loss: 7.8673e-04 - mae: 0.0307 - mape: 13.3823 - mse: 0.0016 - rmse: 0.0395 - val_loss: 0.0016 - val_mae: 0.0449 - val_mape: 5.9956 - val_mse: 0.0031 - val_rmse: 0.0557\n",
            "Epoch 98/100\n",
            "\u001b[1m54/54\u001b[0m \u001b[32m━━━━━━━━━━━━━━━━━━━━\u001b[0m\u001b[37m\u001b[0m \u001b[1m0s\u001b[0m 276ms/step - loss: 9.0620e-04 - mae: 0.0329 - mape: 7.7844 - mse: 0.0018 - rmse: 0.0424"
          ]
        },
        {
          "name": "stderr",
          "output_type": "stream",
          "text": [
            "WARNING:absl:You are saving your model as an HDF5 file via `model.save()` or `keras.saving.save_model(model)`. This file format is considered legacy. We recommend using instead the native Keras format, e.g. `model.save('my_model.keras')` or `keras.saving.save_model(model, 'my_model.keras')`. \n"
          ]
        },
        {
          "name": "stdout",
          "output_type": "stream",
          "text": [
            "\u001b[1m54/54\u001b[0m \u001b[32m━━━━━━━━━━━━━━━━━━━━\u001b[0m\u001b[37m\u001b[0m \u001b[1m16s\u001b[0m 304ms/step - loss: 9.0415e-04 - mae: 0.0329 - mape: 7.7781 - mse: 0.0018 - rmse: 0.0423 - val_loss: 8.0503e-04 - val_mae: 0.0327 - val_mape: 6.8706 - val_mse: 0.0016 - val_rmse: 0.0401\n",
            "Epoch 99/100\n",
            "\u001b[1m54/54\u001b[0m \u001b[32m━━━━━━━━━━━━━━━━━━━━\u001b[0m\u001b[37m\u001b[0m \u001b[1m16s\u001b[0m 306ms/step - loss: 6.8771e-04 - mae: 0.0286 - mape: 5.5957 - mse: 0.0014 - rmse: 0.0371 - val_loss: 0.0010 - val_mae: 0.0349 - val_mape: 6.0659 - val_mse: 0.0020 - val_rmse: 0.0448\n",
            "Epoch 100/100\n",
            "\u001b[1m54/54\u001b[0m \u001b[32m━━━━━━━━━━━━━━━━━━━━\u001b[0m\u001b[37m\u001b[0m \u001b[1m17s\u001b[0m 310ms/step - loss: 8.1973e-04 - mae: 0.0308 - mape: 6.8194 - mse: 0.0016 - rmse: 0.0405 - val_loss: 0.0010 - val_mae: 0.0369 - val_mape: 5.1961 - val_mse: 0.0020 - val_rmse: 0.0451\n"
          ]
        }
      ],
      "source": [
        "history = model.fit(train_x, train_y, \n",
        "                                epochs=100, \n",
        "                                batch_size=32, \n",
        "                                verbose=1,\n",
        "                                validation_split=0.2,\n",
        "                                callbacks = [es, mc]\n",
        "                               )"
      ]
    },
    {
      "cell_type": "code",
      "execution_count": 7,
      "metadata": {
        "id": "oNHlqcvP2Utx"
      },
      "outputs": [
        {
          "name": "stderr",
          "output_type": "stream",
          "text": [
            "You are saving your model as an HDF5 file via `model.save()` or `keras.saving.save_model(model)`. This file format is considered legacy. We recommend using instead the native Keras format, e.g. `model.save('my_model.keras')` or `keras.saving.save_model(model, 'my_model.keras')`. \n"
          ]
        }
      ],
      "source": [
        "model.save(data_path + 'results/trained_model/%s.h5' % experiment_name)\n",
        "\n",
        "hist_df = pd.DataFrame(history.history)\n",
        "hist_csv_file = data_path + 'results/trained_model/%s_history.csv' % experiment_name\n",
        "with open(hist_csv_file, mode='w') as f:\n",
        "    hist_df.to_csv(f)"
      ]
    },
    {
      "cell_type": "markdown",
      "metadata": {
        "id": "LH5RANQIEQVx"
      },
      "source": [
        "### Testing"
      ]
    },
    {
      "cell_type": "code",
      "execution_count": 9,
      "metadata": {
        "colab": {
          "base_uri": "https://localhost:8080/"
        },
        "id": "ggNKW-VqENFN",
        "outputId": "d2867e05-8a02-4a43-bd46-f727cd89890e"
      },
      "outputs": [
        {
          "name": "stderr",
          "output_type": "stream",
          "text": [
            "2025-03-19 00:01:10.198707: E external/local_xla/xla/stream_executor/cuda/cuda_driver.cc:152] failed call to cuInit: INTERNAL: CUDA error: Failed call to cuInit: CUDA_ERROR_NO_DEVICE: no CUDA-capable device is detected\n",
            "2025-03-19 00:01:10.198729: I external/local_xla/xla/stream_executor/cuda/cuda_diagnostics.cc:137] retrieving CUDA diagnostic information for host: BRWN325-D10\n",
            "2025-03-19 00:01:10.198732: I external/local_xla/xla/stream_executor/cuda/cuda_diagnostics.cc:144] hostname: BRWN325-D10\n",
            "2025-03-19 00:01:10.198814: I external/local_xla/xla/stream_executor/cuda/cuda_diagnostics.cc:168] libcuda reported version is: 550.120.0\n",
            "2025-03-19 00:01:10.198831: I external/local_xla/xla/stream_executor/cuda/cuda_diagnostics.cc:172] kernel reported version is: 550.120.0\n",
            "2025-03-19 00:01:10.198833: I external/local_xla/xla/stream_executor/cuda/cuda_diagnostics.cc:259] kernel version seems to match DSO: 550.120.0\n",
            "WARNING:absl:Compiled the loaded model, but the compiled metrics have yet to be built. `model.compile_metrics` will be empty until you train or evaluate the model.\n"
          ]
        },
        {
          "name": "stdout",
          "output_type": "stream",
          "text": [
            "\u001b[1m23/23\u001b[0m \u001b[32m━━━━━━━━━━━━━━━━━━━━\u001b[0m\u001b[37m\u001b[0m \u001b[1m3s\u001b[0m 111ms/step - loss: 340455.6250 - mean_absolute_error: 340456.1250 - mean_absolute_percentage_error: 29162854.0000 - mean_squared_error: 28147055591424.0000 - rmse: 4506724.5000\n",
            "[332638.96875, 28628716879872.0, 332639.46875, 28198410.0, 5350581.0]\n"
          ]
        }
      ],
      "source": [
        "model=load_model('/home/arasul42@tntech.edu/mecc/battery-state-estimation/battery-state-estimation/experiments/lg/~/mecc/battery-state-estimation/battery-state-estimation/results/trained_model/2025-03-18-23-14-33_lstm_soc_lg_best.h5') \n",
        "results = model.evaluate(test_x, test_y)\n",
        "print(results)"
      ]
    },
    {
      "cell_type": "markdown",
      "metadata": {
        "id": "uiqyD8Bn2Utz"
      },
      "source": [
        "# Data Visualization"
      ]
    },
    {
      "cell_type": "code",
      "execution_count": 9,
      "metadata": {
        "colab": {
          "base_uri": "https://localhost:8080/",
          "height": 637
        },
        "id": "jH9RrBRN2Utz",
        "outputId": "4b5ed7b3-3ad2-47f8-9a47-2db35bae2c53"
      },
      "outputs": [
        {
          "name": "stdout",
          "output_type": "stream",
          "text": [
            "5.10.4\n"
          ]
        },
        {
          "ename": "FileNotFoundError",
          "evalue": "[Errno 2] No such file or directory: '~/mecc/battery-state-estimation/battery-state-estimation/results/figures/2025-03-19-15-40-45_lstm_soc_lg_loss.png'",
          "output_type": "error",
          "traceback": [
            "\u001b[0;31m---------------------------------------------------------------------------\u001b[0m",
            "\u001b[0;31mFileNotFoundError\u001b[0m                         Traceback (most recent call last)",
            "Cell \u001b[0;32mIn[9], line 14\u001b[0m\n\u001b[1;32m      7\u001b[0m fig\u001b[38;5;241m.\u001b[39madd_trace(go\u001b[38;5;241m.\u001b[39mScatter(y\u001b[38;5;241m=\u001b[39mhistory\u001b[38;5;241m.\u001b[39mhistory[\u001b[38;5;124m'\u001b[39m\u001b[38;5;124mval_loss\u001b[39m\u001b[38;5;124m'\u001b[39m],\n\u001b[1;32m      8\u001b[0m                     mode\u001b[38;5;241m=\u001b[39m\u001b[38;5;124m'\u001b[39m\u001b[38;5;124mlines\u001b[39m\u001b[38;5;124m'\u001b[39m, name\u001b[38;5;241m=\u001b[39m\u001b[38;5;124m'\u001b[39m\u001b[38;5;124mvalidation\u001b[39m\u001b[38;5;124m'\u001b[39m))\n\u001b[1;32m      9\u001b[0m fig\u001b[38;5;241m.\u001b[39mupdate_layout(title\u001b[38;5;241m=\u001b[39m\u001b[38;5;124m'\u001b[39m\u001b[38;5;124mLoss trend\u001b[39m\u001b[38;5;124m'\u001b[39m,\n\u001b[1;32m     10\u001b[0m                   xaxis_title\u001b[38;5;241m=\u001b[39m\u001b[38;5;124m'\u001b[39m\u001b[38;5;124mepoch\u001b[39m\u001b[38;5;124m'\u001b[39m,\n\u001b[1;32m     11\u001b[0m                   yaxis_title\u001b[38;5;241m=\u001b[39m\u001b[38;5;124m'\u001b[39m\u001b[38;5;124mloss\u001b[39m\u001b[38;5;124m'\u001b[39m,\n\u001b[1;32m     12\u001b[0m                   width\u001b[38;5;241m=\u001b[39m\u001b[38;5;241m1400\u001b[39m,\n\u001b[1;32m     13\u001b[0m                   height\u001b[38;5;241m=\u001b[39m\u001b[38;5;241m600\u001b[39m)\n\u001b[0;32m---> 14\u001b[0m \u001b[43mfig\u001b[49m\u001b[38;5;241;43m.\u001b[39;49m\u001b[43mwrite_image\u001b[49m\u001b[43m(\u001b[49m\u001b[43mdata_path\u001b[49m\u001b[43m \u001b[49m\u001b[38;5;241;43m+\u001b[39;49m\u001b[43m \u001b[49m\u001b[38;5;124;43m'\u001b[39;49m\u001b[38;5;124;43mresults/figures/\u001b[39;49m\u001b[38;5;132;43;01m%s\u001b[39;49;00m\u001b[38;5;124;43m_loss.png\u001b[39;49m\u001b[38;5;124;43m'\u001b[39;49m\u001b[43m \u001b[49m\u001b[38;5;241;43m%\u001b[39;49m\u001b[43m \u001b[49m\u001b[43mexperiment_name\u001b[49m\u001b[43m)\u001b[49m\n",
            "File \u001b[0;32m~/.local/lib/python3.10/site-packages/plotly/basedatatypes.py:3827\u001b[0m, in \u001b[0;36mBaseFigure.write_image\u001b[0;34m(self, *args, **kwargs)\u001b[0m\n\u001b[1;32m   3767\u001b[0m \u001b[38;5;250m\u001b[39m\u001b[38;5;124;03m\"\"\"\u001b[39;00m\n\u001b[1;32m   3768\u001b[0m \u001b[38;5;124;03mConvert a figure to a static image and write it to a file or writeable\u001b[39;00m\n\u001b[1;32m   3769\u001b[0m \u001b[38;5;124;03mobject\u001b[39;00m\n\u001b[0;32m   (...)\u001b[0m\n\u001b[1;32m   3823\u001b[0m \u001b[38;5;124;03mNone\u001b[39;00m\n\u001b[1;32m   3824\u001b[0m \u001b[38;5;124;03m\"\"\"\u001b[39;00m\n\u001b[1;32m   3825\u001b[0m \u001b[38;5;28;01mimport\u001b[39;00m \u001b[38;5;21;01mplotly\u001b[39;00m\u001b[38;5;21;01m.\u001b[39;00m\u001b[38;5;21;01mio\u001b[39;00m \u001b[38;5;28;01mas\u001b[39;00m \u001b[38;5;21;01mpio\u001b[39;00m\n\u001b[0;32m-> 3827\u001b[0m \u001b[38;5;28;01mreturn\u001b[39;00m \u001b[43mpio\u001b[49m\u001b[38;5;241;43m.\u001b[39;49m\u001b[43mwrite_image\u001b[49m\u001b[43m(\u001b[49m\u001b[38;5;28;43mself\u001b[39;49m\u001b[43m,\u001b[49m\u001b[43m \u001b[49m\u001b[38;5;241;43m*\u001b[39;49m\u001b[43margs\u001b[49m\u001b[43m,\u001b[49m\u001b[43m \u001b[49m\u001b[38;5;241;43m*\u001b[39;49m\u001b[38;5;241;43m*\u001b[39;49m\u001b[43mkwargs\u001b[49m\u001b[43m)\u001b[49m\n",
            "File \u001b[0;32m~/.local/lib/python3.10/site-packages/plotly/io/_kaleido.py:296\u001b[0m, in \u001b[0;36mwrite_image\u001b[0;34m(fig, file, format, scale, width, height, validate, engine)\u001b[0m\n\u001b[1;32m    286\u001b[0m         \u001b[38;5;28;01mraise\u001b[39;00m \u001b[38;5;167;01mValueError\u001b[39;00m(\n\u001b[1;32m    287\u001b[0m \u001b[38;5;250m            \u001b[39m\u001b[38;5;124;03m\"\"\"\u001b[39;00m\n\u001b[1;32m    288\u001b[0m \u001b[38;5;124;03mThe 'file' argument '{file}' is not a string, pathlib.Path object, or file descriptor.\u001b[39;00m\n\u001b[0;32m   (...)\u001b[0m\n\u001b[1;32m    291\u001b[0m             )\n\u001b[1;32m    292\u001b[0m         )\n\u001b[1;32m    293\u001b[0m     \u001b[38;5;28;01melse\u001b[39;00m:\n\u001b[1;32m    294\u001b[0m         \u001b[38;5;66;03m# We previously succeeded in interpreting `file` as a pathlib object.\u001b[39;00m\n\u001b[1;32m    295\u001b[0m         \u001b[38;5;66;03m# Now we can use `write_bytes()`.\u001b[39;00m\n\u001b[0;32m--> 296\u001b[0m         \u001b[43mpath\u001b[49m\u001b[38;5;241;43m.\u001b[39;49m\u001b[43mwrite_bytes\u001b[49m\u001b[43m(\u001b[49m\u001b[43mimg_data\u001b[49m\u001b[43m)\u001b[49m\n",
            "File \u001b[0;32m/usr/lib/python3.10/pathlib.py:1143\u001b[0m, in \u001b[0;36mPath.write_bytes\u001b[0;34m(self, data)\u001b[0m\n\u001b[1;32m   1141\u001b[0m \u001b[38;5;66;03m# type-check for the buffer interface before truncating the file\u001b[39;00m\n\u001b[1;32m   1142\u001b[0m view \u001b[38;5;241m=\u001b[39m \u001b[38;5;28mmemoryview\u001b[39m(data)\n\u001b[0;32m-> 1143\u001b[0m \u001b[38;5;28;01mwith\u001b[39;00m \u001b[38;5;28;43mself\u001b[39;49m\u001b[38;5;241;43m.\u001b[39;49m\u001b[43mopen\u001b[49m\u001b[43m(\u001b[49m\u001b[43mmode\u001b[49m\u001b[38;5;241;43m=\u001b[39;49m\u001b[38;5;124;43m'\u001b[39;49m\u001b[38;5;124;43mwb\u001b[39;49m\u001b[38;5;124;43m'\u001b[39;49m\u001b[43m)\u001b[49m \u001b[38;5;28;01mas\u001b[39;00m f:\n\u001b[1;32m   1144\u001b[0m     \u001b[38;5;28;01mreturn\u001b[39;00m f\u001b[38;5;241m.\u001b[39mwrite(view)\n",
            "File \u001b[0;32m/usr/lib/python3.10/pathlib.py:1119\u001b[0m, in \u001b[0;36mPath.open\u001b[0;34m(self, mode, buffering, encoding, errors, newline)\u001b[0m\n\u001b[1;32m   1117\u001b[0m \u001b[38;5;28;01mif\u001b[39;00m \u001b[38;5;124m\"\u001b[39m\u001b[38;5;124mb\u001b[39m\u001b[38;5;124m\"\u001b[39m \u001b[38;5;129;01mnot\u001b[39;00m \u001b[38;5;129;01min\u001b[39;00m mode:\n\u001b[1;32m   1118\u001b[0m     encoding \u001b[38;5;241m=\u001b[39m io\u001b[38;5;241m.\u001b[39mtext_encoding(encoding)\n\u001b[0;32m-> 1119\u001b[0m \u001b[38;5;28;01mreturn\u001b[39;00m \u001b[38;5;28;43mself\u001b[39;49m\u001b[38;5;241;43m.\u001b[39;49m\u001b[43m_accessor\u001b[49m\u001b[38;5;241;43m.\u001b[39;49m\u001b[43mopen\u001b[49m\u001b[43m(\u001b[49m\u001b[38;5;28;43mself\u001b[39;49m\u001b[43m,\u001b[49m\u001b[43m \u001b[49m\u001b[43mmode\u001b[49m\u001b[43m,\u001b[49m\u001b[43m \u001b[49m\u001b[43mbuffering\u001b[49m\u001b[43m,\u001b[49m\u001b[43m \u001b[49m\u001b[43mencoding\u001b[49m\u001b[43m,\u001b[49m\u001b[43m \u001b[49m\u001b[43merrors\u001b[49m\u001b[43m,\u001b[49m\n\u001b[1;32m   1120\u001b[0m \u001b[43m                           \u001b[49m\u001b[43mnewline\u001b[49m\u001b[43m)\u001b[49m\n",
            "\u001b[0;31mFileNotFoundError\u001b[0m: [Errno 2] No such file or directory: '~/mecc/battery-state-estimation/battery-state-estimation/results/figures/2025-03-19-15-40-45_lstm_soc_lg_loss.png'"
          ]
        }
      ],
      "source": [
        "import nbformat\n",
        "print(nbformat.__version__)\n",
        "\n",
        "fig = go.Figure()\n",
        "fig.add_trace(go.Scatter(y=history.history['loss'],\n",
        "                    mode='lines', name='train'))\n",
        "fig.add_trace(go.Scatter(y=history.history['val_loss'],\n",
        "                    mode='lines', name='validation'))\n",
        "fig.update_layout(title='Loss trend',\n",
        "                  xaxis_title='epoch',\n",
        "                  yaxis_title='loss',\n",
        "                  width=1400,\n",
        "                  height=600)\n",
        "fig.write_image(data_path + 'results/figures/%s_loss.png' % experiment_name)"
      ]
    },
    {
      "cell_type": "code",
      "execution_count": 11,
      "metadata": {
        "id": "gtLOteXd-d6n"
      },
      "outputs": [
        {
          "name": "stdout",
          "output_type": "stream",
          "text": [
            "\u001b[1m67/67\u001b[0m \u001b[32m━━━━━━━━━━━━━━━━━━━━\u001b[0m\u001b[37m\u001b[0m \u001b[1m8s\u001b[0m 112ms/step\n"
          ]
        }
      ],
      "source": [
        "train_predictions = model.predict(train_x)"
      ]
    },
    {
      "cell_type": "code",
      "execution_count": 12,
      "metadata": {
        "colab": {
          "base_uri": "https://localhost:8080/",
          "height": 637
        },
        "id": "ZsYMPQ0i2Ut1",
        "outputId": "f6780561-f1fd-4a63-b085-4185664160e8"
      },
      "outputs": [
        {
          "data": {
            "application/vnd.plotly.v1+json": {
              "config": {
                "plotlyServerURL": "https://plot.ly"
              },
              "data": [
                {
                  "mode": "lines",
                  "name": "SoC predicted",
                  "type": "scatter",
                  "x": {
                    "bdata": "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",
                    "dtype": "i2"
                  },
                  "y": {
                    "bdata": "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",
                    "dtype": "f4"
                  }
                },
                {
                  "mode": "lines",
                  "name": "SoC actual",
                  "type": "scatter",
                  "x": {
                    "bdata": "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",
                    "dtype": "i2"
                  },
                  "y": {
                    "bdata": "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",
                    "dtype": "f8"
                  }
                }
              ],
              "layout": {
                "height": 600,
                "template": {
                  "data": {
                    "bar": [
                      {
                        "error_x": {
                          "color": "#2a3f5f"
                        },
                        "error_y": {
                          "color": "#2a3f5f"
                        },
                        "marker": {
                          "line": {
                            "color": "#E5ECF6",
                            "width": 0.5
                          },
                          "pattern": {
                            "fillmode": "overlay",
                            "size": 10,
                            "solidity": 0.2
                          }
                        },
                        "type": "bar"
                      }
                    ],
                    "barpolar": [
                      {
                        "marker": {
                          "line": {
                            "color": "#E5ECF6",
                            "width": 0.5
                          },
                          "pattern": {
                            "fillmode": "overlay",
                            "size": 10,
                            "solidity": 0.2
                          }
                        },
                        "type": "barpolar"
                      }
                    ],
                    "carpet": [
                      {
                        "aaxis": {
                          "endlinecolor": "#2a3f5f",
                          "gridcolor": "white",
                          "linecolor": "white",
                          "minorgridcolor": "white",
                          "startlinecolor": "#2a3f5f"
                        },
                        "baxis": {
                          "endlinecolor": "#2a3f5f",
                          "gridcolor": "white",
                          "linecolor": "white",
                          "minorgridcolor": "white",
                          "startlinecolor": "#2a3f5f"
                        },
                        "type": "carpet"
                      }
                    ],
                    "choropleth": [
                      {
                        "colorbar": {
                          "outlinewidth": 0,
                          "ticks": ""
                        },
                        "type": "choropleth"
                      }
                    ],
                    "contour": [
                      {
                        "colorbar": {
                          "outlinewidth": 0,
                          "ticks": ""
                        },
                        "colorscale": [
                          [
                            0,
                            "#0d0887"
                          ],
                          [
                            0.1111111111111111,
                            "#46039f"
                          ],
                          [
                            0.2222222222222222,
                            "#7201a8"
                          ],
                          [
                            0.3333333333333333,
                            "#9c179e"
                          ],
                          [
                            0.4444444444444444,
                            "#bd3786"
                          ],
                          [
                            0.5555555555555556,
                            "#d8576b"
                          ],
                          [
                            0.6666666666666666,
                            "#ed7953"
                          ],
                          [
                            0.7777777777777778,
                            "#fb9f3a"
                          ],
                          [
                            0.8888888888888888,
                            "#fdca26"
                          ],
                          [
                            1,
                            "#f0f921"
                          ]
                        ],
                        "type": "contour"
                      }
                    ],
                    "contourcarpet": [
                      {
                        "colorbar": {
                          "outlinewidth": 0,
                          "ticks": ""
                        },
                        "type": "contourcarpet"
                      }
                    ],
                    "heatmap": [
                      {
                        "colorbar": {
                          "outlinewidth": 0,
                          "ticks": ""
                        },
                        "colorscale": [
                          [
                            0,
                            "#0d0887"
                          ],
                          [
                            0.1111111111111111,
                            "#46039f"
                          ],
                          [
                            0.2222222222222222,
                            "#7201a8"
                          ],
                          [
                            0.3333333333333333,
                            "#9c179e"
                          ],
                          [
                            0.4444444444444444,
                            "#bd3786"
                          ],
                          [
                            0.5555555555555556,
                            "#d8576b"
                          ],
                          [
                            0.6666666666666666,
                            "#ed7953"
                          ],
                          [
                            0.7777777777777778,
                            "#fb9f3a"
                          ],
                          [
                            0.8888888888888888,
                            "#fdca26"
                          ],
                          [
                            1,
                            "#f0f921"
                          ]
                        ],
                        "type": "heatmap"
                      }
                    ],
                    "histogram": [
                      {
                        "marker": {
                          "pattern": {
                            "fillmode": "overlay",
                            "size": 10,
                            "solidity": 0.2
                          }
                        },
                        "type": "histogram"
                      }
                    ],
                    "histogram2d": [
                      {
                        "colorbar": {
                          "outlinewidth": 0,
                          "ticks": ""
                        },
                        "colorscale": [
                          [
                            0,
                            "#0d0887"
                          ],
                          [
                            0.1111111111111111,
                            "#46039f"
                          ],
                          [
                            0.2222222222222222,
                            "#7201a8"
                          ],
                          [
                            0.3333333333333333,
                            "#9c179e"
                          ],
                          [
                            0.4444444444444444,
                            "#bd3786"
                          ],
                          [
                            0.5555555555555556,
                            "#d8576b"
                          ],
                          [
                            0.6666666666666666,
                            "#ed7953"
                          ],
                          [
                            0.7777777777777778,
                            "#fb9f3a"
                          ],
                          [
                            0.8888888888888888,
                            "#fdca26"
                          ],
                          [
                            1,
                            "#f0f921"
                          ]
                        ],
                        "type": "histogram2d"
                      }
                    ],
                    "histogram2dcontour": [
                      {
                        "colorbar": {
                          "outlinewidth": 0,
                          "ticks": ""
                        },
                        "colorscale": [
                          [
                            0,
                            "#0d0887"
                          ],
                          [
                            0.1111111111111111,
                            "#46039f"
                          ],
                          [
                            0.2222222222222222,
                            "#7201a8"
                          ],
                          [
                            0.3333333333333333,
                            "#9c179e"
                          ],
                          [
                            0.4444444444444444,
                            "#bd3786"
                          ],
                          [
                            0.5555555555555556,
                            "#d8576b"
                          ],
                          [
                            0.6666666666666666,
                            "#ed7953"
                          ],
                          [
                            0.7777777777777778,
                            "#fb9f3a"
                          ],
                          [
                            0.8888888888888888,
                            "#fdca26"
                          ],
                          [
                            1,
                            "#f0f921"
                          ]
                        ],
                        "type": "histogram2dcontour"
                      }
                    ],
                    "mesh3d": [
                      {
                        "colorbar": {
                          "outlinewidth": 0,
                          "ticks": ""
                        },
                        "type": "mesh3d"
                      }
                    ],
                    "parcoords": [
                      {
                        "line": {
                          "colorbar": {
                            "outlinewidth": 0,
                            "ticks": ""
                          }
                        },
                        "type": "parcoords"
                      }
                    ],
                    "pie": [
                      {
                        "automargin": true,
                        "type": "pie"
                      }
                    ],
                    "scatter": [
                      {
                        "fillpattern": {
                          "fillmode": "overlay",
                          "size": 10,
                          "solidity": 0.2
                        },
                        "type": "scatter"
                      }
                    ],
                    "scatter3d": [
                      {
                        "line": {
                          "colorbar": {
                            "outlinewidth": 0,
                            "ticks": ""
                          }
                        },
                        "marker": {
                          "colorbar": {
                            "outlinewidth": 0,
                            "ticks": ""
                          }
                        },
                        "type": "scatter3d"
                      }
                    ],
                    "scattercarpet": [
                      {
                        "marker": {
                          "colorbar": {
                            "outlinewidth": 0,
                            "ticks": ""
                          }
                        },
                        "type": "scattercarpet"
                      }
                    ],
                    "scattergeo": [
                      {
                        "marker": {
                          "colorbar": {
                            "outlinewidth": 0,
                            "ticks": ""
                          }
                        },
                        "type": "scattergeo"
                      }
                    ],
                    "scattergl": [
                      {
                        "marker": {
                          "colorbar": {
                            "outlinewidth": 0,
                            "ticks": ""
                          }
                        },
                        "type": "scattergl"
                      }
                    ],
                    "scattermap": [
                      {
                        "marker": {
                          "colorbar": {
                            "outlinewidth": 0,
                            "ticks": ""
                          }
                        },
                        "type": "scattermap"
                      }
                    ],
                    "scattermapbox": [
                      {
                        "marker": {
                          "colorbar": {
                            "outlinewidth": 0,
                            "ticks": ""
                          }
                        },
                        "type": "scattermapbox"
                      }
                    ],
                    "scatterpolar": [
                      {
                        "marker": {
                          "colorbar": {
                            "outlinewidth": 0,
                            "ticks": ""
                          }
                        },
                        "type": "scatterpolar"
                      }
                    ],
                    "scatterpolargl": [
                      {
                        "marker": {
                          "colorbar": {
                            "outlinewidth": 0,
                            "ticks": ""
                          }
                        },
                        "type": "scatterpolargl"
                      }
                    ],
                    "scatterternary": [
                      {
                        "marker": {
                          "colorbar": {
                            "outlinewidth": 0,
                            "ticks": ""
                          }
                        },
                        "type": "scatterternary"
                      }
                    ],
                    "surface": [
                      {
                        "colorbar": {
                          "outlinewidth": 0,
                          "ticks": ""
                        },
                        "colorscale": [
                          [
                            0,
                            "#0d0887"
                          ],
                          [
                            0.1111111111111111,
                            "#46039f"
                          ],
                          [
                            0.2222222222222222,
                            "#7201a8"
                          ],
                          [
                            0.3333333333333333,
                            "#9c179e"
                          ],
                          [
                            0.4444444444444444,
                            "#bd3786"
                          ],
                          [
                            0.5555555555555556,
                            "#d8576b"
                          ],
                          [
                            0.6666666666666666,
                            "#ed7953"
                          ],
                          [
                            0.7777777777777778,
                            "#fb9f3a"
                          ],
                          [
                            0.8888888888888888,
                            "#fdca26"
                          ],
                          [
                            1,
                            "#f0f921"
                          ]
                        ],
                        "type": "surface"
                      }
                    ],
                    "table": [
                      {
                        "cells": {
                          "fill": {
                            "color": "#EBF0F8"
                          },
                          "line": {
                            "color": "white"
                          }
                        },
                        "header": {
                          "fill": {
                            "color": "#C8D4E3"
                          },
                          "line": {
                            "color": "white"
                          }
                        },
                        "type": "table"
                      }
                    ]
                  },
                  "layout": {
                    "annotationdefaults": {
                      "arrowcolor": "#2a3f5f",
                      "arrowhead": 0,
                      "arrowwidth": 1
                    },
                    "autotypenumbers": "strict",
                    "coloraxis": {
                      "colorbar": {
                        "outlinewidth": 0,
                        "ticks": ""
                      }
                    },
                    "colorscale": {
                      "diverging": [
                        [
                          0,
                          "#8e0152"
                        ],
                        [
                          0.1,
                          "#c51b7d"
                        ],
                        [
                          0.2,
                          "#de77ae"
                        ],
                        [
                          0.3,
                          "#f1b6da"
                        ],
                        [
                          0.4,
                          "#fde0ef"
                        ],
                        [
                          0.5,
                          "#f7f7f7"
                        ],
                        [
                          0.6,
                          "#e6f5d0"
                        ],
                        [
                          0.7,
                          "#b8e186"
                        ],
                        [
                          0.8,
                          "#7fbc41"
                        ],
                        [
                          0.9,
                          "#4d9221"
                        ],
                        [
                          1,
                          "#276419"
                        ]
                      ],
                      "sequential": [
                        [
                          0,
                          "#0d0887"
                        ],
                        [
                          0.1111111111111111,
                          "#46039f"
                        ],
                        [
                          0.2222222222222222,
                          "#7201a8"
                        ],
                        [
                          0.3333333333333333,
                          "#9c179e"
                        ],
                        [
                          0.4444444444444444,
                          "#bd3786"
                        ],
                        [
                          0.5555555555555556,
                          "#d8576b"
                        ],
                        [
                          0.6666666666666666,
                          "#ed7953"
                        ],
                        [
                          0.7777777777777778,
                          "#fb9f3a"
                        ],
                        [
                          0.8888888888888888,
                          "#fdca26"
                        ],
                        [
                          1,
                          "#f0f921"
                        ]
                      ],
                      "sequentialminus": [
                        [
                          0,
                          "#0d0887"
                        ],
                        [
                          0.1111111111111111,
                          "#46039f"
                        ],
                        [
                          0.2222222222222222,
                          "#7201a8"
                        ],
                        [
                          0.3333333333333333,
                          "#9c179e"
                        ],
                        [
                          0.4444444444444444,
                          "#bd3786"
                        ],
                        [
                          0.5555555555555556,
                          "#d8576b"
                        ],
                        [
                          0.6666666666666666,
                          "#ed7953"
                        ],
                        [
                          0.7777777777777778,
                          "#fb9f3a"
                        ],
                        [
                          0.8888888888888888,
                          "#fdca26"
                        ],
                        [
                          1,
                          "#f0f921"
                        ]
                      ]
                    },
                    "colorway": [
                      "#636efa",
                      "#EF553B",
                      "#00cc96",
                      "#ab63fa",
                      "#FFA15A",
                      "#19d3f3",
                      "#FF6692",
                      "#B6E880",
                      "#FF97FF",
                      "#FECB52"
                    ],
                    "font": {
                      "color": "#2a3f5f"
                    },
                    "geo": {
                      "bgcolor": "white",
                      "lakecolor": "white",
                      "landcolor": "#E5ECF6",
                      "showlakes": true,
                      "showland": true,
                      "subunitcolor": "white"
                    },
                    "hoverlabel": {
                      "align": "left"
                    },
                    "hovermode": "closest",
                    "mapbox": {
                      "style": "light"
                    },
                    "paper_bgcolor": "white",
                    "plot_bgcolor": "#E5ECF6",
                    "polar": {
                      "angularaxis": {
                        "gridcolor": "white",
                        "linecolor": "white",
                        "ticks": ""
                      },
                      "bgcolor": "#E5ECF6",
                      "radialaxis": {
                        "gridcolor": "white",
                        "linecolor": "white",
                        "ticks": ""
                      }
                    },
                    "scene": {
                      "xaxis": {
                        "backgroundcolor": "#E5ECF6",
                        "gridcolor": "white",
                        "gridwidth": 2,
                        "linecolor": "white",
                        "showbackground": true,
                        "ticks": "",
                        "zerolinecolor": "white"
                      },
                      "yaxis": {
                        "backgroundcolor": "#E5ECF6",
                        "gridcolor": "white",
                        "gridwidth": 2,
                        "linecolor": "white",
                        "showbackground": true,
                        "ticks": "",
                        "zerolinecolor": "white"
                      },
                      "zaxis": {
                        "backgroundcolor": "#E5ECF6",
                        "gridcolor": "white",
                        "gridwidth": 2,
                        "linecolor": "white",
                        "showbackground": true,
                        "ticks": "",
                        "zerolinecolor": "white"
                      }
                    },
                    "shapedefaults": {
                      "line": {
                        "color": "#2a3f5f"
                      }
                    },
                    "ternary": {
                      "aaxis": {
                        "gridcolor": "white",
                        "linecolor": "white",
                        "ticks": ""
                      },
                      "baxis": {
                        "gridcolor": "white",
                        "linecolor": "white",
                        "ticks": ""
                      },
                      "bgcolor": "#E5ECF6",
                      "caxis": {
                        "gridcolor": "white",
                        "linecolor": "white",
                        "ticks": ""
                      }
                    },
                    "title": {
                      "x": 0.05
                    },
                    "xaxis": {
                      "automargin": true,
                      "gridcolor": "white",
                      "linecolor": "white",
                      "ticks": "",
                      "title": {
                        "standoff": 15
                      },
                      "zerolinecolor": "white",
                      "zerolinewidth": 2
                    },
                    "yaxis": {
                      "automargin": true,
                      "gridcolor": "white",
                      "linecolor": "white",
                      "ticks": "",
                      "title": {
                        "standoff": 15
                      },
                      "zerolinecolor": "white",
                      "zerolinewidth": 2
                    }
                  }
                },
                "title": {
                  "text": "Results on training"
                },
                "width": 1400,
                "xaxis": {
                  "title": {
                    "text": "Step"
                  }
                },
                "yaxis": {
                  "title": {
                    "text": "SoC capacity"
                  }
                }
              }
            }
          },
          "metadata": {},
          "output_type": "display_data"
        }
      ],
      "source": [
        "cycle_num = 0\n",
        "steps_num = 8000\n",
        "step_index = np.arange(cycle_num*steps_num, (cycle_num+1)*steps_num)\n",
        "\n",
        "fig = go.Figure()\n",
        "fig.add_trace(go.Scatter(x=step_index, y=train_predictions.flatten()[cycle_num*steps_num:(cycle_num+1)*steps_num],\n",
        "                    mode='lines', name='SoC predicted'))\n",
        "fig.add_trace(go.Scatter(x=step_index, y=train_y.flatten()[cycle_num*steps_num:(cycle_num+1)*steps_num],\n",
        "                    mode='lines', name='SoC actual'))\n",
        "fig.update_layout(title='Results on training',\n",
        "                  xaxis_title='Step',\n",
        "                  yaxis_title='SoC capacity',\n",
        "                  width=1400,\n",
        "                  height=600)\n",
        "fig.show()"
      ]
    },
    {
      "cell_type": "code",
      "execution_count": 13,
      "metadata": {
        "id": "m0olyqr4-8BG"
      },
      "outputs": [
        {
          "name": "stdout",
          "output_type": "stream",
          "text": [
            "\u001b[1m23/23\u001b[0m \u001b[32m━━━━━━━━━━━━━━━━━━━━\u001b[0m\u001b[37m\u001b[0m \u001b[1m3s\u001b[0m 108ms/step\n"
          ]
        }
      ],
      "source": [
        "test_predictions = model.predict(test_x)"
      ]
    },
    {
      "cell_type": "code",
      "execution_count": 15,
      "metadata": {
        "colab": {
          "base_uri": "https://localhost:8080/",
          "height": 637
        },
        "id": "9U1MbGnq2Ut4",
        "outputId": "8dbd73f9-0893-42fb-b1d6-b47bf7f8c028"
      },
      "outputs": [
        {
          "data": {
            "application/vnd.plotly.v1+json": {
              "config": {
                "plotlyServerURL": "https://plot.ly"
              },
              "data": [
                {
                  "mode": "lines",
                  "name": "SoC predicted",
                  "type": "scatter",
                  "x": {
                    "bdata": "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",
                    "dtype": "i2"
                  },
                  "y": {
                    "bdata": "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",
                    "dtype": "f4"
                  }
                },
                {
                  "mode": "lines",
                  "name": "SoC actual",
                  "type": "scatter",
                  "x": {
                    "bdata": "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",
                    "dtype": "i2"
                  },
                  "y": {
                    "bdata": "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",
                    "dtype": "f8"
                  }
                }
              ],
              "layout": {
                "height": 600,
                "template": {
                  "data": {
                    "bar": [
                      {
                        "error_x": {
                          "color": "#2a3f5f"
                        },
                        "error_y": {
                          "color": "#2a3f5f"
                        },
                        "marker": {
                          "line": {
                            "color": "#E5ECF6",
                            "width": 0.5
                          },
                          "pattern": {
                            "fillmode": "overlay",
                            "size": 10,
                            "solidity": 0.2
                          }
                        },
                        "type": "bar"
                      }
                    ],
                    "barpolar": [
                      {
                        "marker": {
                          "line": {
                            "color": "#E5ECF6",
                            "width": 0.5
                          },
                          "pattern": {
                            "fillmode": "overlay",
                            "size": 10,
                            "solidity": 0.2
                          }
                        },
                        "type": "barpolar"
                      }
                    ],
                    "carpet": [
                      {
                        "aaxis": {
                          "endlinecolor": "#2a3f5f",
                          "gridcolor": "white",
                          "linecolor": "white",
                          "minorgridcolor": "white",
                          "startlinecolor": "#2a3f5f"
                        },
                        "baxis": {
                          "endlinecolor": "#2a3f5f",
                          "gridcolor": "white",
                          "linecolor": "white",
                          "minorgridcolor": "white",
                          "startlinecolor": "#2a3f5f"
                        },
                        "type": "carpet"
                      }
                    ],
                    "choropleth": [
                      {
                        "colorbar": {
                          "outlinewidth": 0,
                          "ticks": ""
                        },
                        "type": "choropleth"
                      }
                    ],
                    "contour": [
                      {
                        "colorbar": {
                          "outlinewidth": 0,
                          "ticks": ""
                        },
                        "colorscale": [
                          [
                            0,
                            "#0d0887"
                          ],
                          [
                            0.1111111111111111,
                            "#46039f"
                          ],
                          [
                            0.2222222222222222,
                            "#7201a8"
                          ],
                          [
                            0.3333333333333333,
                            "#9c179e"
                          ],
                          [
                            0.4444444444444444,
                            "#bd3786"
                          ],
                          [
                            0.5555555555555556,
                            "#d8576b"
                          ],
                          [
                            0.6666666666666666,
                            "#ed7953"
                          ],
                          [
                            0.7777777777777778,
                            "#fb9f3a"
                          ],
                          [
                            0.8888888888888888,
                            "#fdca26"
                          ],
                          [
                            1,
                            "#f0f921"
                          ]
                        ],
                        "type": "contour"
                      }
                    ],
                    "contourcarpet": [
                      {
                        "colorbar": {
                          "outlinewidth": 0,
                          "ticks": ""
                        },
                        "type": "contourcarpet"
                      }
                    ],
                    "heatmap": [
                      {
                        "colorbar": {
                          "outlinewidth": 0,
                          "ticks": ""
                        },
                        "colorscale": [
                          [
                            0,
                            "#0d0887"
                          ],
                          [
                            0.1111111111111111,
                            "#46039f"
                          ],
                          [
                            0.2222222222222222,
                            "#7201a8"
                          ],
                          [
                            0.3333333333333333,
                            "#9c179e"
                          ],
                          [
                            0.4444444444444444,
                            "#bd3786"
                          ],
                          [
                            0.5555555555555556,
                            "#d8576b"
                          ],
                          [
                            0.6666666666666666,
                            "#ed7953"
                          ],
                          [
                            0.7777777777777778,
                            "#fb9f3a"
                          ],
                          [
                            0.8888888888888888,
                            "#fdca26"
                          ],
                          [
                            1,
                            "#f0f921"
                          ]
                        ],
                        "type": "heatmap"
                      }
                    ],
                    "histogram": [
                      {
                        "marker": {
                          "pattern": {
                            "fillmode": "overlay",
                            "size": 10,
                            "solidity": 0.2
                          }
                        },
                        "type": "histogram"
                      }
                    ],
                    "histogram2d": [
                      {
                        "colorbar": {
                          "outlinewidth": 0,
                          "ticks": ""
                        },
                        "colorscale": [
                          [
                            0,
                            "#0d0887"
                          ],
                          [
                            0.1111111111111111,
                            "#46039f"
                          ],
                          [
                            0.2222222222222222,
                            "#7201a8"
                          ],
                          [
                            0.3333333333333333,
                            "#9c179e"
                          ],
                          [
                            0.4444444444444444,
                            "#bd3786"
                          ],
                          [
                            0.5555555555555556,
                            "#d8576b"
                          ],
                          [
                            0.6666666666666666,
                            "#ed7953"
                          ],
                          [
                            0.7777777777777778,
                            "#fb9f3a"
                          ],
                          [
                            0.8888888888888888,
                            "#fdca26"
                          ],
                          [
                            1,
                            "#f0f921"
                          ]
                        ],
                        "type": "histogram2d"
                      }
                    ],
                    "histogram2dcontour": [
                      {
                        "colorbar": {
                          "outlinewidth": 0,
                          "ticks": ""
                        },
                        "colorscale": [
                          [
                            0,
                            "#0d0887"
                          ],
                          [
                            0.1111111111111111,
                            "#46039f"
                          ],
                          [
                            0.2222222222222222,
                            "#7201a8"
                          ],
                          [
                            0.3333333333333333,
                            "#9c179e"
                          ],
                          [
                            0.4444444444444444,
                            "#bd3786"
                          ],
                          [
                            0.5555555555555556,
                            "#d8576b"
                          ],
                          [
                            0.6666666666666666,
                            "#ed7953"
                          ],
                          [
                            0.7777777777777778,
                            "#fb9f3a"
                          ],
                          [
                            0.8888888888888888,
                            "#fdca26"
                          ],
                          [
                            1,
                            "#f0f921"
                          ]
                        ],
                        "type": "histogram2dcontour"
                      }
                    ],
                    "mesh3d": [
                      {
                        "colorbar": {
                          "outlinewidth": 0,
                          "ticks": ""
                        },
                        "type": "mesh3d"
                      }
                    ],
                    "parcoords": [
                      {
                        "line": {
                          "colorbar": {
                            "outlinewidth": 0,
                            "ticks": ""
                          }
                        },
                        "type": "parcoords"
                      }
                    ],
                    "pie": [
                      {
                        "automargin": true,
                        "type": "pie"
                      }
                    ],
                    "scatter": [
                      {
                        "fillpattern": {
                          "fillmode": "overlay",
                          "size": 10,
                          "solidity": 0.2
                        },
                        "type": "scatter"
                      }
                    ],
                    "scatter3d": [
                      {
                        "line": {
                          "colorbar": {
                            "outlinewidth": 0,
                            "ticks": ""
                          }
                        },
                        "marker": {
                          "colorbar": {
                            "outlinewidth": 0,
                            "ticks": ""
                          }
                        },
                        "type": "scatter3d"
                      }
                    ],
                    "scattercarpet": [
                      {
                        "marker": {
                          "colorbar": {
                            "outlinewidth": 0,
                            "ticks": ""
                          }
                        },
                        "type": "scattercarpet"
                      }
                    ],
                    "scattergeo": [
                      {
                        "marker": {
                          "colorbar": {
                            "outlinewidth": 0,
                            "ticks": ""
                          }
                        },
                        "type": "scattergeo"
                      }
                    ],
                    "scattergl": [
                      {
                        "marker": {
                          "colorbar": {
                            "outlinewidth": 0,
                            "ticks": ""
                          }
                        },
                        "type": "scattergl"
                      }
                    ],
                    "scattermap": [
                      {
                        "marker": {
                          "colorbar": {
                            "outlinewidth": 0,
                            "ticks": ""
                          }
                        },
                        "type": "scattermap"
                      }
                    ],
                    "scattermapbox": [
                      {
                        "marker": {
                          "colorbar": {
                            "outlinewidth": 0,
                            "ticks": ""
                          }
                        },
                        "type": "scattermapbox"
                      }
                    ],
                    "scatterpolar": [
                      {
                        "marker": {
                          "colorbar": {
                            "outlinewidth": 0,
                            "ticks": ""
                          }
                        },
                        "type": "scatterpolar"
                      }
                    ],
                    "scatterpolargl": [
                      {
                        "marker": {
                          "colorbar": {
                            "outlinewidth": 0,
                            "ticks": ""
                          }
                        },
                        "type": "scatterpolargl"
                      }
                    ],
                    "scatterternary": [
                      {
                        "marker": {
                          "colorbar": {
                            "outlinewidth": 0,
                            "ticks": ""
                          }
                        },
                        "type": "scatterternary"
                      }
                    ],
                    "surface": [
                      {
                        "colorbar": {
                          "outlinewidth": 0,
                          "ticks": ""
                        },
                        "colorscale": [
                          [
                            0,
                            "#0d0887"
                          ],
                          [
                            0.1111111111111111,
                            "#46039f"
                          ],
                          [
                            0.2222222222222222,
                            "#7201a8"
                          ],
                          [
                            0.3333333333333333,
                            "#9c179e"
                          ],
                          [
                            0.4444444444444444,
                            "#bd3786"
                          ],
                          [
                            0.5555555555555556,
                            "#d8576b"
                          ],
                          [
                            0.6666666666666666,
                            "#ed7953"
                          ],
                          [
                            0.7777777777777778,
                            "#fb9f3a"
                          ],
                          [
                            0.8888888888888888,
                            "#fdca26"
                          ],
                          [
                            1,
                            "#f0f921"
                          ]
                        ],
                        "type": "surface"
                      }
                    ],
                    "table": [
                      {
                        "cells": {
                          "fill": {
                            "color": "#EBF0F8"
                          },
                          "line": {
                            "color": "white"
                          }
                        },
                        "header": {
                          "fill": {
                            "color": "#C8D4E3"
                          },
                          "line": {
                            "color": "white"
                          }
                        },
                        "type": "table"
                      }
                    ]
                  },
                  "layout": {
                    "annotationdefaults": {
                      "arrowcolor": "#2a3f5f",
                      "arrowhead": 0,
                      "arrowwidth": 1
                    },
                    "autotypenumbers": "strict",
                    "coloraxis": {
                      "colorbar": {
                        "outlinewidth": 0,
                        "ticks": ""
                      }
                    },
                    "colorscale": {
                      "diverging": [
                        [
                          0,
                          "#8e0152"
                        ],
                        [
                          0.1,
                          "#c51b7d"
                        ],
                        [
                          0.2,
                          "#de77ae"
                        ],
                        [
                          0.3,
                          "#f1b6da"
                        ],
                        [
                          0.4,
                          "#fde0ef"
                        ],
                        [
                          0.5,
                          "#f7f7f7"
                        ],
                        [
                          0.6,
                          "#e6f5d0"
                        ],
                        [
                          0.7,
                          "#b8e186"
                        ],
                        [
                          0.8,
                          "#7fbc41"
                        ],
                        [
                          0.9,
                          "#4d9221"
                        ],
                        [
                          1,
                          "#276419"
                        ]
                      ],
                      "sequential": [
                        [
                          0,
                          "#0d0887"
                        ],
                        [
                          0.1111111111111111,
                          "#46039f"
                        ],
                        [
                          0.2222222222222222,
                          "#7201a8"
                        ],
                        [
                          0.3333333333333333,
                          "#9c179e"
                        ],
                        [
                          0.4444444444444444,
                          "#bd3786"
                        ],
                        [
                          0.5555555555555556,
                          "#d8576b"
                        ],
                        [
                          0.6666666666666666,
                          "#ed7953"
                        ],
                        [
                          0.7777777777777778,
                          "#fb9f3a"
                        ],
                        [
                          0.8888888888888888,
                          "#fdca26"
                        ],
                        [
                          1,
                          "#f0f921"
                        ]
                      ],
                      "sequentialminus": [
                        [
                          0,
                          "#0d0887"
                        ],
                        [
                          0.1111111111111111,
                          "#46039f"
                        ],
                        [
                          0.2222222222222222,
                          "#7201a8"
                        ],
                        [
                          0.3333333333333333,
                          "#9c179e"
                        ],
                        [
                          0.4444444444444444,
                          "#bd3786"
                        ],
                        [
                          0.5555555555555556,
                          "#d8576b"
                        ],
                        [
                          0.6666666666666666,
                          "#ed7953"
                        ],
                        [
                          0.7777777777777778,
                          "#fb9f3a"
                        ],
                        [
                          0.8888888888888888,
                          "#fdca26"
                        ],
                        [
                          1,
                          "#f0f921"
                        ]
                      ]
                    },
                    "colorway": [
                      "#636efa",
                      "#EF553B",
                      "#00cc96",
                      "#ab63fa",
                      "#FFA15A",
                      "#19d3f3",
                      "#FF6692",
                      "#B6E880",
                      "#FF97FF",
                      "#FECB52"
                    ],
                    "font": {
                      "color": "#2a3f5f"
                    },
                    "geo": {
                      "bgcolor": "white",
                      "lakecolor": "white",
                      "landcolor": "#E5ECF6",
                      "showlakes": true,
                      "showland": true,
                      "subunitcolor": "white"
                    },
                    "hoverlabel": {
                      "align": "left"
                    },
                    "hovermode": "closest",
                    "mapbox": {
                      "style": "light"
                    },
                    "paper_bgcolor": "white",
                    "plot_bgcolor": "#E5ECF6",
                    "polar": {
                      "angularaxis": {
                        "gridcolor": "white",
                        "linecolor": "white",
                        "ticks": ""
                      },
                      "bgcolor": "#E5ECF6",
                      "radialaxis": {
                        "gridcolor": "white",
                        "linecolor": "white",
                        "ticks": ""
                      }
                    },
                    "scene": {
                      "xaxis": {
                        "backgroundcolor": "#E5ECF6",
                        "gridcolor": "white",
                        "gridwidth": 2,
                        "linecolor": "white",
                        "showbackground": true,
                        "ticks": "",
                        "zerolinecolor": "white"
                      },
                      "yaxis": {
                        "backgroundcolor": "#E5ECF6",
                        "gridcolor": "white",
                        "gridwidth": 2,
                        "linecolor": "white",
                        "showbackground": true,
                        "ticks": "",
                        "zerolinecolor": "white"
                      },
                      "zaxis": {
                        "backgroundcolor": "#E5ECF6",
                        "gridcolor": "white",
                        "gridwidth": 2,
                        "linecolor": "white",
                        "showbackground": true,
                        "ticks": "",
                        "zerolinecolor": "white"
                      }
                    },
                    "shapedefaults": {
                      "line": {
                        "color": "#2a3f5f"
                      }
                    },
                    "ternary": {
                      "aaxis": {
                        "gridcolor": "white",
                        "linecolor": "white",
                        "ticks": ""
                      },
                      "baxis": {
                        "gridcolor": "white",
                        "linecolor": "white",
                        "ticks": ""
                      },
                      "bgcolor": "#E5ECF6",
                      "caxis": {
                        "gridcolor": "white",
                        "linecolor": "white",
                        "ticks": ""
                      }
                    },
                    "title": {
                      "x": 0.05
                    },
                    "xaxis": {
                      "automargin": true,
                      "gridcolor": "white",
                      "linecolor": "white",
                      "ticks": "",
                      "title": {
                        "standoff": 15
                      },
                      "zerolinecolor": "white",
                      "zerolinewidth": 2
                    },
                    "yaxis": {
                      "automargin": true,
                      "gridcolor": "white",
                      "linecolor": "white",
                      "ticks": "",
                      "title": {
                        "standoff": 15
                      },
                      "zerolinecolor": "white",
                      "zerolinewidth": 2
                    }
                  }
                },
                "title": {
                  "text": "Results on testing"
                },
                "width": 1400,
                "xaxis": {
                  "title": {
                    "text": "Step"
                  }
                },
                "yaxis": {
                  "title": {
                    "text": "SoC capacity"
                  }
                }
              }
            }
          },
          "metadata": {},
          "output_type": "display_data"
        }
      ],
      "source": [
        "cycle_num = 0\n",
        "steps_num = 8000\n",
        "step_index = np.arange(cycle_num*steps_num, (cycle_num+1)*steps_num)\n",
        "\n",
        "fig = go.Figure()\n",
        "fig.add_trace(go.Scatter(x=step_index, y=test_predictions.flatten()[cycle_num*steps_num:(cycle_num+1)*steps_num],\n",
        "                    mode='lines', name='SoC predicted'))\n",
        "fig.add_trace(go.Scatter(x=step_index, y=test_y.flatten()[cycle_num*steps_num:(cycle_num+1)*steps_num],\n",
        "                    mode='lines', name='SoC actual'))\n",
        "fig.update_layout(title='Results on testing',\n",
        "                  xaxis_title='Step',\n",
        "                  yaxis_title='SoC capacity',\n",
        "                  width=1400,\n",
        "                  height=600)\n",
        "fig.show()"
      ]
    }
  ],
  "metadata": {
    "accelerator": "GPU",
    "colab": {
      "collapsed_sections": [],
      "name": "lstm_soc_capacity_lg_shorter_t2.ipynb",
      "provenance": []
    },
    "kernelspec": {
      "display_name": "Python 3",
      "language": "python",
      "name": "python3"
    },
    "language_info": {
      "codemirror_mode": {
        "name": "ipython",
        "version": 3
      },
      "file_extension": ".py",
      "mimetype": "text/x-python",
      "name": "python",
      "nbconvert_exporter": "python",
      "pygments_lexer": "ipython3",
      "version": "3.10.12"
    }
  },
  "nbformat": 4,
  "nbformat_minor": 0
}
